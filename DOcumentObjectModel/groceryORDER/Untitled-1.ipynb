{
 "cells": [
  {
   "cell_type": "code",
   "execution_count": 2,
   "metadata": {},
   "outputs": [
    {
     "name": "stdout",
     "output_type": "stream",
     "text": [
      "42\n"
     ]
    }
   ],
   "source": [
    "def sumOfArr(arr):\n",
    "    sum=0\n",
    "    for i in range(len(arr)):\n",
    "        sum+=arr[i]\n",
    "    return sum\n",
    "def main():\n",
    "    n=int(input())\n",
    "    arr=[]\n",
    "    for i in range(n):\n",
    "        arr.append(int(input()))\n",
    "    print(sumOfArr(arr))\n",
    "main()            "
   ]
  },
  {
   "cell_type": "code",
   "execution_count": 4,
   "metadata": {},
   "outputs": [
    {
     "name": "stdout",
     "output_type": "stream",
     "text": [
      "42\n"
     ]
    }
   ],
   "source": [
    "def sumOfArr(arr):\n",
    "    return sum(arr)\n",
    "def main():\n",
    "    arr=[1,2,3,10,5,21]\n",
    "    print(sumOfArr(arr))\n",
    "main()\n"
   ]
  },
  {
   "cell_type": "markdown",
   "metadata": {},
   "source": [
    "Alice and Bob each created one problem for HackerRank. A reviewer rates the two challenges, awarding points on a scale from 1 to 100 for three categories: problem clarity, originality, and difficulty.\n",
    "\n",
    "The rating for Alice's challenge is the triplet a = (a[0], a[1], a[2]), and the rating for Bob's challenge is the triplet b = (b[0], b[1], b[2]).\n",
    "\n",
    "The task is to find their comparison points by comparing a[0] with b[0], a[1] with b[1], and a[2] with b[2].\n",
    "\n",
    "If a[i] > b[i], then Alice is awarded 1 point.\n",
    "If a[i] < b[i], then Bob is awarded 1 point.\n",
    "If a[i] = b[i], then neither person receives a point.\n",
    "Comparison points is the total points a person earned.\n",
    "\n",
    "Given a and b, determine their respective comparison points.\n",
    "\n",
    "Example\n",
    "\n",
    "a = [1, 2, 3]\n",
    "b = [3, 2, 1]\n",
    "For elements *0*, Bob is awarded a point because a[0] .\n",
    "For the equal elements a[1] and b[1], no points are earned.\n",
    "Finally, for elements 2, a[2] > b[2] so Alice receives a point.\n",
    "The return array is [1, 1] with Alice's score first and Bob's second.\n",
    "\n",
    "Function Description\n",
    "\n",
    "Complete the function compareTriplets in the editor below.\n",
    "\n",
    "compareTriplets has the following parameter(s):\n",
    "\n",
    "int a[3]: Alice's challenge rating\n",
    "int b[3]: Bob's challenge rating\n",
    "Return\n",
    "\n",
    "int[2]: Alice's score is in the first position, and Bob's score is in the second.\n",
    "Input Format\n",
    "\n",
    "The first line contains 3 space-separated integers, a[0], a[1], and a[2], the respective values in triplet a.\n",
    "The second line contains 3 space-separated integers, b[0], b[1], and b[2], the respective values in triplet b.\n",
    "\n",
    "Constraints\n",
    "\n",
    "1 ≤ a[i] ≤ 100\n",
    "1 ≤ b[i] ≤ 100\n",
    "Sample Input 0\n",
    "\n",
    "5 6 7\n",
    "3 6 10\n",
    "Sample Output 0\n",
    "\n",
    "1 1\n",
    "Explanation 0\n",
    "\n",
    "In this example:\n",
    "\n",
    "Now, let's compare each individual score:\n",
    "\n",
    ", so Alice receives  point.\n",
    ", so nobody receives a point.\n",
    ", so Bob receives  point.\n",
    "Alice's comparison score is , and Bob's comparison score is . Thus, we return the array .\n",
    "\n",
    "Sample Input 1\n",
    "\n",
    "17 28 30\n",
    "99 16 8\n",
    "Sample Output 1\n",
    "\n",
    "2 1\n",
    "Explanation 1\n",
    "\n",
    "Comparing the  elements,  so Bob receives a point.\n",
    "Comparing the  and  elements,  and  so Alice receives two points.\n",
    "The return array is ."
   ]
  },
  {
   "cell_type": "code",
   "execution_count": 10,
   "metadata": {},
   "outputs": [
    {
     "name": "stdout",
     "output_type": "stream",
     "text": [
      "(1, 1)\n"
     ]
    }
   ],
   "source": [
    "def comparison(a,b):\n",
    "    count=0\n",
    "    jout=0\n",
    "    for i in range(len(a)):\n",
    "        if(a[i]>b[i]):\n",
    "            count+=1\n",
    "        elif(a[i]<b[i]):\n",
    "            jout+=1\n",
    "    return (count,jout)\n",
    "def main():\n",
    "    n=int(input())\n",
    "    a=[]\n",
    "    b=[]\n",
    "    for i in range(n):\n",
    "        a.append(int(input()))\n",
    "    for i in range(n):    \n",
    "        b.append(int(input()))\n",
    "\n",
    "    print(comparison(a,b))\n",
    "main()                "
   ]
  },
  {
   "cell_type": "markdown",
   "metadata": {},
   "source": [
    "In this challenge, you are required to calculate and print the sum of the elements in an array, keeping in mind that some of those integers may be quite large.\n",
    "\n",
    "Function Description\n",
    "\n",
    "Complete the aVeryBigSum function in the editor below. It must return the sum of all array elements.\n",
    "\n",
    "aVeryBigSum has the following parameter(s):\n",
    "\n",
    "int ar[n]: an array of integers .\n",
    "Return\n",
    "\n",
    "long: the sum of all array elements\n",
    "Input Format\n",
    "\n",
    "The first line of the input consists of an integer .\n",
    "The next line contains  space-separated integers contained in the array.\n",
    "\n",
    "Output Format\n",
    "\n",
    "Return the integer sum of the elements in the array.\n",
    "\n",
    "Constraints\n",
    "\n",
    "\n",
    "Sample Input\n",
    "\n",
    "5\n",
    "1000000001 1000000002 1000000003 1000000004 1000000005\n",
    "Output\n",
    "\n",
    "5000000015"
   ]
  },
  {
   "cell_type": "code",
   "execution_count": 14,
   "metadata": {},
   "outputs": [
    {
     "name": "stdout",
     "output_type": "stream",
     "text": [
      "5000000015\n"
     ]
    }
   ],
   "source": [
    "def aVeryBigSum(arr):\n",
    "    count=0\n",
    "    for i in arr:\n",
    "        count+=i\n",
    "    return count\n",
    "def main():\n",
    "    n=int(input())\n",
    "    arr=[]\n",
    "    for i in range(n):\n",
    "        arr.append(int(input()))\n",
    "    print(aVeryBigSum(arr))\n",
    "main()            "
   ]
  },
  {
   "cell_type": "markdown",
   "metadata": {},
   "source": [
    "Given a square matrix, calculate the absolute difference between the sums of its diagonals.\n",
    "\n",
    "For example, the square matrix  is shown below:\n",
    "\n",
    "1 2 3\n",
    "4 5 6\n",
    "9 8 9  \n",
    "The left-to-right diagonal = . The right to left diagonal = . Their absolute difference is .\n",
    "\n",
    "Function description\n",
    "\n",
    "Complete the  function in the editor below.\n",
    "\n",
    "diagonalDifference takes the following parameter:\n",
    "\n",
    "int arr[n][m]: an array of integers\n",
    "Return\n",
    "\n",
    "int: the absolute diagonal difference\n",
    "Input Format\n",
    "\n",
    "The first line contains a single integer, , the number of rows and columns in the square matrix .\n",
    "Each of the next  lines describes a row, , and consists of  space-separated integers .\n",
    "\n",
    "Constraints\n",
    "\n",
    "Output Format\n",
    "\n",
    "Return the absolute difference between the sums of the matrix's two diagonals as a single integer.\n",
    "\n",
    "Sample Input\n",
    "\n",
    "3\n",
    "11 2 4\n",
    "4 5 6\n",
    "10 8 -12\n",
    "Sample Output\n",
    "\n",
    "15\n",
    "Explanation\n",
    "\n",
    "The primary diagonal is:\n",
    "\n",
    "11\n",
    "   5\n",
    "     -12\n",
    "Sum across the primary diagonal: 11 + 5 - 12 = 4\n",
    "\n",
    "The secondary diagonal is:\n",
    "\n",
    "     4\n",
    "   5\n",
    "10\n",
    "Sum across the secondary diagonal: 4 + 5 + 10 = 19\n",
    "Difference: |4 - 19| = 15\n",
    "\n",
    "Note: |x| is the absolute value of x"
   ]
  },
  {
   "cell_type": "code",
   "execution_count": null,
   "metadata": {},
   "outputs": [],
   "source": [
    "#digonal Difference\n",
    "def digonalDifference(arr):\n",
    "    n=len(arr)\n",
    "    primarySum=0\n",
    "    secondarySum=0\n",
    "    for i in range(n):\n",
    "        primarySum+=arr[i][i]\n",
    "        secondarySum+=arr[i][n-1-i]\n",
    "\n",
    "    differnce=primarySum-secondarySum\n",
    "    if differnce<0:\n",
    "        return -differnce\n",
    "    else:\n",
    "        return differnce\n",
    "        "
   ]
  }
 ],
 "metadata": {
  "kernelspec": {
   "display_name": "Python 3",
   "language": "python",
   "name": "python3"
  },
  "language_info": {
   "codemirror_mode": {
    "name": "ipython",
    "version": 3
   },
   "file_extension": ".py",
   "mimetype": "text/x-python",
   "name": "python",
   "nbconvert_exporter": "python",
   "pygments_lexer": "ipython3",
   "version": "3.12.0"
  }
 },
 "nbformat": 4,
 "nbformat_minor": 2
}
