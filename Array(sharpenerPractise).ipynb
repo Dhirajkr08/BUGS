{
 "cells": [
  {
   "cell_type": "code",
   "execution_count": 2,
   "metadata": {},
   "outputs": [
    {
     "name": "stdout",
     "output_type": "stream",
     "text": [
      "1\n",
      "2\n",
      "3\n",
      "4\n",
      "5\n"
     ]
    }
   ],
   "source": [
    "class solution:\n",
    "    def storeElement(self,n):\n",
    "        list=[]\n",
    "        for i in range(1,n+1):\n",
    "            list.append(i)\n",
    "        return list\n",
    "def main():\n",
    "    n=int(input())\n",
    "    s=solution()\n",
    "    output=(s.storeElement(n))\n",
    "    for i in range(n):\n",
    "        print(output[i])\n",
    "main()            "
   ]
  },
  {
   "cell_type": "code",
   "execution_count": 3,
   "metadata": {},
   "outputs": [
    {
     "ename": "SyntaxError",
     "evalue": "incomplete input (612916078.py, line 1)",
     "output_type": "error",
     "traceback": [
      "\u001b[1;36m  Cell \u001b[1;32mIn[3], line 1\u001b[1;36m\u001b[0m\n\u001b[1;33m    class solution:\u001b[0m\n\u001b[1;37m                   ^\u001b[0m\n\u001b[1;31mSyntaxError\u001b[0m\u001b[1;31m:\u001b[0m incomplete input\n"
     ]
    }
   ],
   "source": [
    "class solution:"
   ]
  },
  {
   "cell_type": "code",
   "execution_count": 6,
   "metadata": {},
   "outputs": [
    {
     "name": "stdout",
     "output_type": "stream",
     "text": [
      "7\n"
     ]
    }
   ],
   "source": [
    "def findMaximum(arr):\n",
    "    maxi=arr[0]\n",
    "    for i in range(len(arr)):\n",
    "        if arr[i]>maxi:\n",
    "            maxi=arr[i]\n",
    "    return maxi\n",
    "def main():\n",
    "    n=int(input())\n",
    "    arr=[]\n",
    "    for i in range(n):\n",
    "        arr.append(int(input()))\n",
    "        \n",
    "    print(findMaximum(arr)) \n",
    "main()              "
   ]
  },
  {
   "cell_type": "code",
   "execution_count": 7,
   "metadata": {},
   "outputs": [
    {
     "name": "stdout",
     "output_type": "stream",
     "text": [
      "-2\n"
     ]
    }
   ],
   "source": [
    "class solution:\n",
    "    def findMini(self,arr):\n",
    "        mini=arr[0]\n",
    "        for i in range(len(arr)):\n",
    "            if arr[i]<mini:\n",
    "                mini=arr[i]\n",
    "        return mini\n",
    "def main():\n",
    "    n=int(input()) \n",
    "    s=solution()\n",
    "    arr=[]\n",
    "    for i in range(n):\n",
    "        arr.append(int(input()))\n",
    "    print(s.findMini(arr))\n",
    "main()                   "
   ]
  },
  {
   "cell_type": "code",
   "execution_count": 14,
   "metadata": {},
   "outputs": [
    {
     "name": "stdout",
     "output_type": "stream",
     "text": [
      "[2, 3, 5, 7, 11]\n"
     ]
    }
   ],
   "source": [
    "class solution:\n",
    "    def printPrime(self,n):\n",
    "        num=str(n)\n",
    "        x=2\n",
    "        arr=[]\n",
    "        count=0\n",
    "        while len(arr)<=n:\n",
    "            flag=True\n",
    "            for i in range(2,x):\n",
    "                if (x%i)==0:\n",
    "                    flag=False\n",
    "                    break\n",
    "            if  flag==True:\n",
    "                arr.append(x)\n",
    "                count+=1\n",
    "            if  count==n:\n",
    "                break\n",
    "            x+=1\n",
    "        return arr\n",
    "def main():\n",
    "    n=int(input())  \n",
    "    s=solution()\n",
    "    print(s.printPrime(n))\n",
    "main()           \n"
   ]
  },
  {
   "cell_type": "code",
   "execution_count": 15,
   "metadata": {},
   "outputs": [
    {
     "name": "stdout",
     "output_type": "stream",
     "text": [
      "[2, 3, 5, 7, 11]\n"
     ]
    }
   ],
   "source": [
    "class solution:\n",
    "    def primeNumber(self,n):\n",
    "        x=2\n",
    "        num=str(n)\n",
    "        count=0\n",
    "        arr=[]\n",
    "        while len(arr)<=n:\n",
    "            flag=True\n",
    "            for i in range(2,x):\n",
    "                if (x%i)==0:\n",
    "                    flag=False\n",
    "                    break\n",
    "            if flag==True:\n",
    "                arr.append(x)\n",
    "                count+=1\n",
    "            if count==n:\n",
    "                break\n",
    "            x+=1\n",
    "        return arr\n",
    "def main():\n",
    "    n=int(input())\n",
    "    s=solution()\n",
    "    print(s.primeNumber(n))\n",
    "main()                    "
   ]
  },
  {
   "cell_type": "code",
   "execution_count": 21,
   "metadata": {},
   "outputs": [
    {
     "name": "stdout",
     "output_type": "stream",
     "text": [
      "1\n",
      "12\n",
      "123\n",
      "1234\n",
      "12345\n",
      "2\n",
      "23\n",
      "234\n",
      "2345\n",
      "3\n",
      "34\n",
      "345\n",
      "4\n",
      "45\n",
      "5\n"
     ]
    }
   ],
   "source": [
    "class solution:\n",
    "    def subArray(self,arr):\n",
    "        for i in range(1,len(arr)+1):\n",
    "            for j in range(i,len(arr)+1):\n",
    "                for k in range(i,j+1):\n",
    "                    print(k,end=\"\")\n",
    "                print()\n",
    "def main():\n",
    "    n=int(input())\n",
    "    arr=[]\n",
    "    for i in range(n):\n",
    "        arr.append(int(input())) \n",
    "    s=solution()\n",
    "    s.subArray(arr)\n",
    "main()                           "
   ]
  },
  {
   "cell_type": "code",
   "execution_count": 24,
   "metadata": {},
   "outputs": [
    {
     "name": "stdout",
     "output_type": "stream",
     "text": [
      "8\n"
     ]
    }
   ],
   "source": [
    "class solution:\n",
    "    def maxSubArray(self,arr):\n",
    "        maxiSum=arr[0]\n",
    "        for i in range(len(arr)):\n",
    "            sum=0\n",
    "            for j in range(i,len(arr)):\n",
    "                sum=sum+arr[j]\n",
    "                if sum>maxiSum:\n",
    "                    maxiSum=sum\n",
    "        return maxiSum\n",
    "def main():\n",
    "    n=int(input())\n",
    "    arr=[]\n",
    "    for i in range(n):\n",
    "        arr.append(int(input())) \n",
    "    s=solution()\n",
    "    print(s.maxSubArray(arr))\n",
    "main() \n",
    "\n"
   ]
  },
  {
   "cell_type": "code",
   "execution_count": 29,
   "metadata": {},
   "outputs": [
    {
     "name": "stdout",
     "output_type": "stream",
     "text": [
      "[1, 3, 6, 10]\n"
     ]
    }
   ],
   "source": [
    "class solution:\n",
    "    def runningSum(self,nums):\n",
    "        for i in range(1,len(nums)):\n",
    "            nums[i]+=nums[i-1]\n",
    "        return nums\n",
    "def main():\n",
    "    n=int(input())\n",
    "    arr=[]\n",
    "    for i in range(n):\n",
    "        arr.append(int(input()))\n",
    "    s=solution()\n",
    "    print(s.runningSum(arr))\n",
    "main()                \n",
    "\n",
    "\n",
    "\n",
    "        \n"
   ]
  },
  {
   "cell_type": "code",
   "execution_count": 30,
   "metadata": {},
   "outputs": [
    {
     "name": "stdout",
     "output_type": "stream",
     "text": [
      "6\n"
     ]
    }
   ],
   "source": [
    "class solution:\n",
    "    def richestCustomer(self,accounts):\n",
    "        maximum=0\n",
    "        for i in range(len(accounts)):\n",
    "            total=sum(accounts[i])\n",
    "            maximum=max(maximum,total)\n",
    "        return maximum\n",
    "def main():\n",
    "    n=int(input())\n",
    "    arr=[]\n",
    "    for i in range(n):\n",
    "        m=int(input()) \n",
    "        jrr=[]\n",
    "        for i in range(m):\n",
    "            jrr.append(int(input()))\n",
    "\n",
    "        arr.append(jrr)\n",
    "    s=solution()\n",
    "    print(s.richestCustomer(arr)) \n",
    "main()       \n"
   ]
  },
  {
   "cell_type": "code",
   "execution_count": 1,
   "metadata": {},
   "outputs": [
    {
     "name": "stdout",
     "output_type": "stream",
     "text": [
      "[1, 3, 6, 10]\n"
     ]
    }
   ],
   "source": [
    "class solution:\n",
    "    def runningSum(self,nums):\n",
    "        for i in range(1,len(nums)):\n",
    "            nums[i]+=nums[i-1]\n",
    "        return nums\n",
    "def main():\n",
    "    n=int(input())\n",
    "    arr=[]\n",
    "    for i in range(n):\n",
    "        arr.append(int(input()))\n",
    "    s=solution()\n",
    "    print(s.runningSum(arr))\n",
    "main()                "
   ]
  },
  {
   "cell_type": "code",
   "execution_count": 3,
   "metadata": {},
   "outputs": [
    {
     "name": "stdout",
     "output_type": "stream",
     "text": [
      "10\n"
     ]
    }
   ],
   "source": [
    "class solution:\n",
    "    def maxWealth(self,accounts):\n",
    "        maxi=0\n",
    "        for i in range(len(accounts)):\n",
    "            total=sum(accounts[i])\n",
    "            maxi=max(total,maxi)\n",
    "        return maxi\n",
    "def main():\n",
    "    n=int(input()) \n",
    "    arr=[]\n",
    "    for i in range(n):\n",
    "        c=int(input())\n",
    "        jrr=[]\n",
    "        for i in range(c):\n",
    "            jrr.append(int(input()))\n",
    "        arr.append(jrr) \n",
    "    s=solution()\n",
    "    print(s.maxWealth(arr))\n",
    "main()                  \n"
   ]
  },
  {
   "cell_type": "code",
   "execution_count": 4,
   "metadata": {},
   "outputs": [
    {
     "name": "stdout",
     "output_type": "stream",
     "text": [
      "58\n"
     ]
    }
   ],
   "source": [
    "class solution:\n",
    "    def sumofOdd(self,arr):\n",
    "        r=0\n",
    "        for i in range(len(arr)):\n",
    "            c=0\n",
    "            for j in range(i,len(arr)):\n",
    "                c+=arr[j]\n",
    "                if (j-i)%2==0:\n",
    "                    r+=c\n",
    "        return r\n",
    "def main():\n",
    "    n=int(input())\n",
    "    arr=[]\n",
    "    for i in range(n):\n",
    "        arr.append(int(input()))\n",
    "    s=solution()  \n",
    "    print(s.sumofOdd(arr))\n",
    "main()                      \n",
    "\n",
    "\n"
   ]
  },
  {
   "cell_type": "code",
   "execution_count": 5,
   "metadata": {},
   "outputs": [
    {
     "name": "stdout",
     "output_type": "stream",
     "text": [
      "58\n"
     ]
    }
   ],
   "source": [
    "class solution:\n",
    "    def sumofOdd(self,arr):\n",
    "        r=0\n",
    "        for i in range(len(arr)):\n",
    "            c=0\n",
    "            for j in range(i,len(arr)):\n",
    "                c+=arr[j]\n",
    "                if(j-i)%2==0:\n",
    "                    r+=c\n",
    "        return r\n",
    "def main():\n",
    "    n=int(input()) \n",
    "    arr=[]\n",
    "    for i in range(n):\n",
    "        arr.append(int(input()))\n",
    "    s=solution()\n",
    "    print(s.sumofOdd(arr))\n",
    "main()                       "
   ]
  },
  {
   "cell_type": "code",
   "execution_count": 9,
   "metadata": {},
   "outputs": [
    {
     "name": "stdout",
     "output_type": "stream",
     "text": [
      "[1, 2, 3, 4, 5]\n"
     ]
    }
   ],
   "source": [
    "class solution:\n",
    "    def bubbleSort(self,arr):\n",
    "        for i in range(len(arr)-1):\n",
    "            for j in range(len(arr)-1-i):\n",
    "                if arr[j]>arr[j+1]:\n",
    "                    temp=arr[j]\n",
    "                    arr[j]=arr[j+1]\n",
    "                    arr[j+1]=temp\n",
    "        return arr\n",
    "def main():\n",
    "    n=int(input()) \n",
    "    arr=[]\n",
    "    for i in range(n):\n",
    "        arr.append(int(input()))\n",
    "    s=solution()\n",
    "    print(s.bubbleSort(arr))\n",
    "main()                       \n"
   ]
  },
  {
   "cell_type": "code",
   "execution_count": 10,
   "metadata": {},
   "outputs": [
    {
     "name": "stdout",
     "output_type": "stream",
     "text": [
      "[5, 4, 3, 2, 1]\n"
     ]
    }
   ],
   "source": [
    "class solution:\n",
    "    def bubbleSort(self,arr):\n",
    "        for i in range(len(arr)-1):\n",
    "            for j in range(len(arr)-1-i):\n",
    "                if arr[j]<=arr[j+1]:\n",
    "                    d=arr[j]\n",
    "                    arr[j]=arr[j+1]\n",
    "                    arr[j+1]=d\n",
    "        return arr\n",
    "def main():\n",
    "    n=int(input())\n",
    "    arr=[]\n",
    "    for i in range(n):\n",
    "        arr.append(int(input()))\n",
    "    s=solution()\n",
    "    print(s.bubbleSort(arr))\n",
    "main()        \n"
   ]
  },
  {
   "cell_type": "code",
   "execution_count": null,
   "metadata": {},
   "outputs": [],
   "source": [
    "class solution:\n",
    "    def InsertionSort(self,arr):\n",
    "        for i in range(len(arr)):\n",
    "            j=i-1\n",
    "            temp=arr[i]\n",
    "            while j>0 and temp<arr[j]:\n",
    "                arr[j+1]=arr[j]\n",
    "                j-=1\n",
    "            arr[j+1]=temp\n",
    "        return arr\n",
    "def main():\n",
    "    n=int(input())\n",
    "    arr=[]\n",
    "    for i in range(n):\n",
    "        arr.append(int(input()))\n",
    "    s=solution()\n",
    "    print(s.InsertionSort(arr))\n",
    "main()                    "
   ]
  },
  {
   "cell_type": "code",
   "execution_count": 12,
   "metadata": {},
   "outputs": [
    {
     "name": "stdout",
     "output_type": "stream",
     "text": [
      "[1, 2, 3, 4, 5]\n"
     ]
    }
   ],
   "source": [
    "class solution:\n",
    "    def selectionSort(self,arr):\n",
    "        for i in range(len(arr)):\n",
    "            temp=i\n",
    "            for j in range(i,len(arr)):\n",
    "                if arr[j]<arr[temp]:\n",
    "                      temp=j\n",
    "            d=arr[i]\n",
    "            arr[i]=arr[temp]\n",
    "            arr[temp]=d\n",
    "        return arr  \n",
    "def main():\n",
    "    n=int(input())\n",
    "    arr=[]\n",
    "    for i in range(n):\n",
    "        arr.append(int(input()))\n",
    "    s=solution()\n",
    "    print(s.selectionSort(arr))\n",
    "main()                              "
   ]
  },
  {
   "cell_type": "code",
   "execution_count": 17,
   "metadata": {},
   "outputs": [
    {
     "name": "stdout",
     "output_type": "stream",
     "text": [
      "[1, 2, 3, 4, 5]\n"
     ]
    }
   ],
   "source": [
    "class solution:\n",
    "    def insertionSort(self,arr):\n",
    "        for i in range(len(arr)):\n",
    "            temp=arr[i]\n",
    "            j=i-1\n",
    "            while j>=0 and temp<=arr[j]:\n",
    "                arr[j+1]=arr[j]\n",
    "                j-=1\n",
    "            arr[j+1]=temp\n",
    "        return arr    \n",
    "def main():\n",
    "    n=int(input()) \n",
    "    arr=[]\n",
    "    for i in range(n):\n",
    "        arr.append(int(input()))\n",
    "    s=solution()\n",
    "    print(s.insertionSort(arr)) \n",
    "main()          \n",
    "         "
   ]
  },
  {
   "cell_type": "code",
   "execution_count": 13,
   "metadata": {},
   "outputs": [
    {
     "name": "stdout",
     "output_type": "stream",
     "text": [
      "[1, 2, 3, 4, 5]\n"
     ]
    }
   ],
   "source": [
    "class solution:\n",
    "    def bubbleSort(self,arr):\n",
    "        for i in range(len(arr)-1):\n",
    "            for j in range(len(arr)-1-i):\n",
    "                if arr[j]>arr[j+1]:\n",
    "                    temp=arr[j]\n",
    "                    arr[j]=arr[j+1]\n",
    "                    arr[j+1]=temp\n",
    "        return arr\n",
    "def main():\n",
    "    n=int(input())\n",
    "    arr=[]\n",
    "    for i in range(n):\n",
    "        arr.append(int(input()))\n",
    "    s=solution()\n",
    "    print(s.bubbleSort(arr))\n",
    "main()    \n"
   ]
  },
  {
   "cell_type": "code",
   "execution_count": 19,
   "metadata": {},
   "outputs": [
    {
     "name": "stdout",
     "output_type": "stream",
     "text": [
      "[1, 2, 3, 4, 5]\n"
     ]
    }
   ],
   "source": [
    "class solution:\n",
    "    def InsertionSort(self,arr):\n",
    "        for i in range(len(arr)):\n",
    "            temp=arr[i]\n",
    "            j=i-1\n",
    "            while j>=0 and temp<=arr[j]:\n",
    "                arr[j+1]=arr[j]\n",
    "                j-=1\n",
    "            arr[j+1]=temp\n",
    "        return arr\n",
    "def main():\n",
    "    n=int(input())            \n",
    "    arr=[]\n",
    "    for i in range(n):\n",
    "        arr.append(int(input()))\n",
    "    s=solution()\n",
    "    print(s.InsertionSort(arr))\n",
    "main()        "
   ]
  },
  {
   "cell_type": "code",
   "execution_count": 21,
   "metadata": {},
   "outputs": [
    {
     "name": "stdout",
     "output_type": "stream",
     "text": [
      "[1, 2, 3, 4, 5]\n"
     ]
    }
   ],
   "source": [
    "class solution:\n",
    "    def selectionSort(self,arr):\n",
    "        for i in range(len(arr)):\n",
    "            temp=i\n",
    "            for j in range(i,len(arr)):\n",
    "                if arr[temp]>arr[j]:\n",
    "                    temp=j\n",
    "            d=arr[i]\n",
    "            arr[i]=arr[temp]\n",
    "            arr[temp]=d\n",
    "        return arr\n",
    "def main():\n",
    "    n=int(input())\n",
    "    arr=[]\n",
    "    for i in range(n):\n",
    "        arr.append(int(input()))\n",
    "    s=solution()\n",
    "    print(s.selectionSort(arr))\n",
    "main()                                    "
   ]
  },
  {
   "cell_type": "code",
   "execution_count": 23,
   "metadata": {},
   "outputs": [
    {
     "name": "stdout",
     "output_type": "stream",
     "text": [
      "612345\n"
     ]
    }
   ],
   "source": [
    "class solution:\n",
    "    def rotatedArray(self,nums,k):\n",
    "        for i in range(k):\n",
    "            num=nums.pop()\n",
    "            nums.insert(0,num)\n",
    "def main():\n",
    "    n=int(input())\n",
    "    arr=[]\n",
    "    for i in range(n):\n",
    "        arr.append(int(input()))\n",
    "    s=solution()\n",
    "    k=int(input())\n",
    "    s.rotatedArray(arr,k)\n",
    "    for i in range(n):\n",
    "        print(str(arr[i]),end=\"\")\n",
    "    print()    \n",
    "\n",
    "main()                    "
   ]
  },
  {
   "cell_type": "code",
   "execution_count": 1,
   "metadata": {},
   "outputs": [
    {
     "name": "stdout",
     "output_type": "stream",
     "text": [
      "58\n"
     ]
    }
   ],
   "source": [
    "class solution:\n",
    "    def sumOfoddLength(self,arr):\n",
    "        r=0\n",
    "        for i in range(len(arr)):\n",
    "            c=0\n",
    "            for j in range(i,len(arr)):\n",
    "                c+=arr[j]\n",
    "                if (j-i)%2==0:\n",
    "                    r+=c\n",
    "        return r\n",
    "def main():\n",
    "    n=int(input())\n",
    "    arr=[]\n",
    "    for i in range(n):\n",
    "        arr.append(int(input()))\n",
    "    s=solution()\n",
    "    print(s.sumOfoddLength(arr))\n",
    "main()                        "
   ]
  },
  {
   "cell_type": "code",
   "execution_count": 5,
   "metadata": {},
   "outputs": [
    {
     "name": "stdout",
     "output_type": "stream",
     "text": [
      "[5, 4, 3, 2, 1]\n"
     ]
    }
   ],
   "source": [
    "class solution:\n",
    "    def selectionSort(self,arr):\n",
    "        for i in range(len(arr)):\n",
    "            temp=i\n",
    "            for j in range(i,len(arr)):\n",
    "                if arr[temp]<=arr[j]:\n",
    "                    temp=j\n",
    "            d=arr[temp]\n",
    "            arr[temp]=arr[i]\n",
    "            arr[i]=d\n",
    "        return arr\n",
    "def main():\n",
    "    n=int(input())\n",
    "    arr=[]\n",
    "    for i in range(n):\n",
    "        arr.append(int(input()))\n",
    "    s=solution()\n",
    "    print(s.selectionSort(arr))\n",
    "main()                        "
   ]
  },
  {
   "cell_type": "code",
   "execution_count": 9,
   "metadata": {},
   "outputs": [
    {
     "name": "stdout",
     "output_type": "stream",
     "text": [
      "[5, 4, 3, 2, 1]\n"
     ]
    }
   ],
   "source": [
    "class solution:\n",
    "    def InsertionSort(self,arr):\n",
    "        for i in range(len(arr)):\n",
    "            temp=arr[i]\n",
    "            j=i-1\n",
    "            while j>=0 and temp>=arr[j]:\n",
    "                arr[j+1]=arr[j]\n",
    "                j-=1\n",
    "            arr[j+1]=temp\n",
    "        return arr\n",
    "def main():\n",
    "    n=int(input()) \n",
    "    arr=[]\n",
    "    for i in range(n):\n",
    "        arr.append(int(input()))\n",
    "    s=solution()\n",
    "    print(s.InsertionSort(arr))\n",
    "main()                   "
   ]
  },
  {
   "cell_type": "code",
   "execution_count": 10,
   "metadata": {},
   "outputs": [
    {
     "name": "stdout",
     "output_type": "stream",
     "text": [
      "[1, 2, 3, 4, 5]\n"
     ]
    }
   ],
   "source": [
    "class solution:\n",
    "    def selectionSort(self,arr):\n",
    "        for i in range(len(arr)):\n",
    "            temp=i\n",
    "            for j in range(i,len(arr)):\n",
    "                if arr[temp]>=arr[j]:\n",
    "                    temp=j\n",
    "            d=arr[i]\n",
    "            arr[i]=arr[temp]\n",
    "            arr[temp]=d\n",
    "        return arr\n",
    "def main():\n",
    "    n=int(input())\n",
    "    arr=[]\n",
    "    for i in range(n):\n",
    "        arr.append(int(input()))\n",
    "    s=solution()\n",
    "    print(s.selectionSort(arr))\n",
    "main()                        \n"
   ]
  },
  {
   "cell_type": "code",
   "execution_count": 11,
   "metadata": {},
   "outputs": [
    {
     "name": "stdout",
     "output_type": "stream",
     "text": [
      "[1, 2, 3, 4, 5]\n"
     ]
    }
   ],
   "source": [
    "class solution:\n",
    "    def InsertionSort(self,arr):\n",
    "        for i in range(len(arr)):\n",
    "            temp=arr[i]\n",
    "            j=i-1\n",
    "            while j>=0 and temp<=arr[j]:\n",
    "                arr[j+1]=arr[j]\n",
    "                j-=1\n",
    "            arr[j+1]=temp\n",
    "        return arr\n",
    "def main():\n",
    "    n=int(input())\n",
    "    arr=[]\n",
    "    for i in range(n):\n",
    "        arr.append(int(input())) \n",
    "    s=solution()\n",
    "    print(s.InsertionSort(arr))\n",
    "main()                          "
   ]
  }
 ],
 "metadata": {
  "kernelspec": {
   "display_name": "Python 3",
   "language": "python",
   "name": "python3"
  },
  "language_info": {
   "codemirror_mode": {
    "name": "ipython",
    "version": 3
   },
   "file_extension": ".py",
   "mimetype": "text/x-python",
   "name": "python",
   "nbconvert_exporter": "python",
   "pygments_lexer": "ipython3",
   "version": "3.11.5"
  },
  "orig_nbformat": 4
 },
 "nbformat": 4,
 "nbformat_minor": 2
}
