{
 "cells": [
  {
   "cell_type": "code",
   "execution_count": 9,
   "metadata": {},
   "outputs": [
    {
     "name": "stdout",
     "output_type": "stream",
     "text": [
      "2\n",
      "4\n",
      "6\n",
      "8\n",
      "10\n"
     ]
    }
   ],
   "source": [
    "class solution:\n",
    "    def printNumbers(self,n):\n",
    "        for i in range(1,n+1):\n",
    "            if i%2==0:\n",
    "                print(i)\n",
    "def main():\n",
    "    n=int(input())\n",
    "    s=solution()            \n",
    "    (s.printNumbers(n))\n",
    "main()    "
   ]
  },
  {
   "cell_type": "code",
   "execution_count": 15,
   "metadata": {},
   "outputs": [
    {
     "name": "stdout",
     "output_type": "stream",
     "text": [
      "2\n",
      "4\n",
      "6\n",
      "8\n",
      "10\n"
     ]
    }
   ],
   "source": [
    "#while loop\n",
    "class solution:\n",
    "    def printNumber(self,n):\n",
    "        i=1\n",
    "        while i<=n:\n",
    "            if i%2==0:\n",
    "                print(i)\n",
    "            i+=1\n",
    "def main():\n",
    "    n=int(input())\n",
    "    s=solution()\n",
    "    (s.printNumber(n)) \n",
    "main()                   "
   ]
  },
  {
   "cell_type": "code",
   "execution_count": 17,
   "metadata": {},
   "outputs": [
    {
     "name": "stdout",
     "output_type": "stream",
     "text": [
      "1\n",
      "2\n",
      "3\n",
      "4\n",
      "6\n",
      "7\n"
     ]
    }
   ],
   "source": [
    "class solution:\n",
    "    def printNumber(self,n):\n",
    "        i=1\n",
    "        while i<=n:\n",
    "            if i%5==0:\n",
    "                i+=1\n",
    "                continue\n",
    "            else:\n",
    "                print(i)\n",
    "            i+=1\n",
    "def main():\n",
    "    n=int(input())\n",
    "    s=solution()\n",
    "    (s.printNumber(n))\n",
    "main()                    \n"
   ]
  },
  {
   "cell_type": "code",
   "execution_count": 21,
   "metadata": {},
   "outputs": [
    {
     "name": "stdout",
     "output_type": "stream",
     "text": [
      "1\n",
      "2\n",
      "3\n",
      "4\n",
      "6\n",
      "7\n"
     ]
    }
   ],
   "source": [
    "# using for loop\n",
    "class solution:\n",
    "    def printNumber(self,n):\n",
    "        for i in range(1,n+1):\n",
    "            if (i%5==0):\n",
    "                i+=1\n",
    "                continue\n",
    "            else:\n",
    "                print(i)\n",
    "            i+=1    \n",
    "def main():\n",
    "    n=int(input())\n",
    "    s=solution()\n",
    "    (s.printNumber(n))\n",
    "main()    \n",
    "\n",
    "        \n",
    "        \n"
   ]
  },
  {
   "cell_type": "code",
   "execution_count": 22,
   "metadata": {},
   "outputs": [
    {
     "name": "stdout",
     "output_type": "stream",
     "text": [
      "3\n",
      "5\n",
      "1\n"
     ]
    }
   ],
   "source": [
    "class solution:\n",
    "    def printDigit(self,n):\n",
    "        while n>0:\n",
    "            temp=n%10\n",
    "            n=n//10\n",
    "            print(temp)\n",
    "def main():\n",
    "    n=int(input())\n",
    "    s=solution()\n",
    "    s.printDigit(n)\n",
    "main()    \n"
   ]
  },
  {
   "cell_type": "code",
   "execution_count": 23,
   "metadata": {},
   "outputs": [
    {
     "name": "stdout",
     "output_type": "stream",
     "text": [
      "3\n",
      "5\n",
      "1\n"
     ]
    }
   ],
   "source": [
    "class solution:\n",
    "    def printDigit(self,n):\n",
    "        while n>0:\n",
    "            temp=n%10\n",
    "            n=n//10\n",
    "            print(temp)\n",
    "def main():\n",
    "    n=int(input())\n",
    "    s=solution()\n",
    "    s.printDigit(n) \n",
    "main()               "
   ]
  },
  {
   "cell_type": "code",
   "execution_count": 33,
   "metadata": {},
   "outputs": [
    {
     "name": "stdout",
     "output_type": "stream",
     "text": [
      "3\n",
      "5\n",
      "1\n"
     ]
    }
   ],
   "source": [
    "class solution:\n",
    "    def printDigit(self,n):\n",
    "        for i in reversed(str(n)):\n",
    "            print(i)\n",
    "def main():\n",
    "    n=int(input())\n",
    "    s=solution()\n",
    "    s.printDigit(n)\n",
    "main()                "
   ]
  },
  {
   "cell_type": "code",
   "execution_count": 34,
   "metadata": {},
   "outputs": [
    {
     "name": "stdout",
     "output_type": "stream",
     "text": [
      "3\n",
      "5\n",
      "1\n"
     ]
    }
   ],
   "source": [
    "class solution:\n",
    "    def printDigit(self,n):\n",
    "        for i in reversed(str(n)):\n",
    "            print(i)\n",
    "def main():\n",
    "    n=int(input()) \n",
    "    s=solution()\n",
    "    s.printDigit(n)  \n",
    "main()             "
   ]
  },
  {
   "cell_type": "code",
   "execution_count": 38,
   "metadata": {},
   "outputs": [
    {
     "name": "stdout",
     "output_type": "stream",
     "text": [
      "false\n"
     ]
    }
   ],
   "source": [
    "class solution:\n",
    "    def armStrong(self,n):\n",
    "        temp=n\n",
    "        sum=0\n",
    "        while temp>0:\n",
    "            i=temp%10\n",
    "            sum=sum+i**3\n",
    "            temp=temp//10\n",
    "        if n==sum:\n",
    "            return \"true\"\n",
    "        else:\n",
    "            return \"false\" \n",
    "def main():\n",
    "    n=int(input())\n",
    "    s=solution()\n",
    "    print(s.armStrong(n))\n",
    "main()               \n",
    "\n",
    "\n"
   ]
  },
  {
   "cell_type": "code",
   "execution_count": 42,
   "metadata": {},
   "outputs": [
    {
     "name": "stdout",
     "output_type": "stream",
     "text": [
      "true\n"
     ]
    }
   ],
   "source": [
    "class solution:\n",
    "    def ArmStrong(self,n):\n",
    "        num=n\n",
    "        sum=0\n",
    "        while num>0:\n",
    "            temp=num%10\n",
    "            sum=sum+temp**3\n",
    "            num=num//10\n",
    "        if n==sum:\n",
    "            return 'true'\n",
    "        else:\n",
    "            return 'false'\n",
    "def main():\n",
    "    n=int(input()) \n",
    "    s=solution()\n",
    "    print(s.ArmStrong(n))\n",
    "main()           \n"
   ]
  },
  {
   "cell_type": "code",
   "execution_count": 43,
   "metadata": {},
   "outputs": [
    {
     "name": "stdout",
     "output_type": "stream",
     "text": [
      "321\n"
     ]
    }
   ],
   "source": [
    "class solution:\n",
    "    def reverseNumber(self,n):\n",
    "        rev=0\n",
    "        while n>0:\n",
    "            temp=n%10\n",
    "            rev=rev*10+temp\n",
    "            n=n//10\n",
    "        return rev\n",
    "def main():\n",
    "    n=int(input())\n",
    "    s=solution()\n",
    "    print(s.reverseNumber(n))\n",
    "main()        "
   ]
  },
  {
   "cell_type": "code",
   "execution_count": 45,
   "metadata": {},
   "outputs": [
    {
     "name": "stdout",
     "output_type": "stream",
     "text": [
      "241\n"
     ]
    }
   ],
   "source": [
    "class solution:\n",
    "    def reverseNumber(self,n):\n",
    "        rev=0\n",
    "        while n>0:\n",
    "            temp=n%10\n",
    "            rev=rev*10+temp\n",
    "            n=n//10\n",
    "        return rev\n",
    "def main():\n",
    "    n=int(input())\n",
    "    s=solution() \n",
    "    print(s.reverseNumber(n)) \n",
    "main()          "
   ]
  },
  {
   "cell_type": "code",
   "execution_count": 46,
   "metadata": {},
   "outputs": [
    {
     "name": "stdout",
     "output_type": "stream",
     "text": [
      "1\n",
      "3\n",
      "5\n",
      "7\n"
     ]
    }
   ],
   "source": [
    "class solution:\n",
    "    def oddNumber(self,n):\n",
    "        for i in range(1,n+1):\n",
    "            if i%2!=0:\n",
    "                print(i)\n",
    "def main():\n",
    "    n=int(input())\n",
    "    s=solution()\n",
    "    s.oddNumber(n)\n",
    "main()                    "
   ]
  },
  {
   "cell_type": "code",
   "execution_count": 49,
   "metadata": {},
   "outputs": [
    {
     "name": "stdout",
     "output_type": "stream",
     "text": [
      "1\n",
      "8\n",
      "27\n",
      "64\n",
      "125\n"
     ]
    }
   ],
   "source": [
    "class solution:\n",
    "    def printSeries(self,n):\n",
    "        for i in range(1,n+1):\n",
    "            if i*i*i>n:\n",
    "                break\n",
    "            print(i*i*i)\n",
    "def main():\n",
    "    n=int(input())\n",
    "    s=solution()\n",
    "    (s.printSeries(n))\n",
    "main()                \n",
    "\n"
   ]
  },
  {
   "cell_type": "code",
   "execution_count": 51,
   "metadata": {},
   "outputs": [
    {
     "name": "stdout",
     "output_type": "stream",
     "text": [
      "1\n",
      "8\n",
      "27\n",
      "64\n",
      "125\n"
     ]
    }
   ],
   "source": [
    "class solution:\n",
    "    def printSeries(self,n):\n",
    "        for i in range(1,n+1):\n",
    "            if (i*i*i)>n:\n",
    "                continue\n",
    "            print(i*i*i)\n",
    "def main():\n",
    "    n=int(input())\n",
    "    s=solution()\n",
    "    s.printSeries(n)\n",
    "main()              "
   ]
  },
  {
   "cell_type": "code",
   "execution_count": 53,
   "metadata": {},
   "outputs": [
    {
     "name": "stdout",
     "output_type": "stream",
     "text": [
      "1\n",
      "8\n",
      "27\n",
      "64\n",
      "125\n"
     ]
    }
   ],
   "source": [
    "class solution:\n",
    "    def printSeries(self,n):\n",
    "        for i in range(1,n+1):\n",
    "            if(i*i*i)>n:\n",
    "                continue\n",
    "            print(i*i*i)\n",
    "def main():\n",
    "    n=int(input())\n",
    "    s=solution()   \n",
    "    s.printSeries(n)\n",
    "main()             \n"
   ]
  },
  {
   "cell_type": "code",
   "execution_count": 55,
   "metadata": {},
   "outputs": [
    {
     "name": "stdout",
     "output_type": "stream",
     "text": [
      "2\n",
      "6\n",
      "10\n"
     ]
    }
   ],
   "source": [
    "class solution:\n",
    "    def printNumber(self,n):\n",
    "        for i in range(1,n+1):\n",
    "            if i%4==0:\n",
    "                continue\n",
    "            if i%2==0:\n",
    "                print(i)\n",
    "def main():\n",
    "    n=int(input())\n",
    "    s=solution()\n",
    "    s.printNumber(n)\n",
    "main()                \n"
   ]
  },
  {
   "cell_type": "code",
   "execution_count": 2,
   "metadata": {},
   "outputs": [
    {
     "name": "stdout",
     "output_type": "stream",
     "text": [
      "1\n",
      "2\n",
      "3\n"
     ]
    }
   ],
   "source": [
    "class solution:\n",
    "    def printNumber(self,n,m):\n",
    "        for i in range(1,n+1):\n",
    "            if i==m:\n",
    "                break\n",
    "            print(i)\n",
    "def main():\n",
    "    n=int(input())\n",
    "    m=int(input())\n",
    "    s=solution()\n",
    "    s.printNumber(n,m)\n",
    "main()                "
   ]
  },
  {
   "cell_type": "code",
   "execution_count": 6,
   "metadata": {},
   "outputs": [
    {
     "name": "stdout",
     "output_type": "stream",
     "text": [
      "*****\n",
      "****\n",
      "***\n",
      "**\n",
      "*\n"
     ]
    }
   ],
   "source": [
    "class solution:\n",
    "    def printSeries(self,n):\n",
    "        for i in range(1,n+1):\n",
    "            for j in range(i,n+1):\n",
    "                print(\"*\",end=\"\")\n",
    "            print()\n",
    "def main():\n",
    "    n=int(input())\n",
    "    s=solution()\n",
    "    s.printSeries(n)\n",
    "main()                    "
   ]
  },
  {
   "cell_type": "code",
   "execution_count": 8,
   "metadata": {},
   "outputs": [
    {
     "name": "stdout",
     "output_type": "stream",
     "text": [
      "*****\n",
      "****\n",
      "***\n",
      "**\n",
      "*\n"
     ]
    }
   ],
   "source": [
    "# using while loops\n",
    "class solution:\n",
    "    def printSeries(self,n):\n",
    "        i=1\n",
    "        while i<=n:\n",
    "            j=n\n",
    "            while j>=i:\n",
    "                j=j-1\n",
    "                print('*',end=\"\")\n",
    "            print()\n",
    "            i+=1\n",
    "def main():\n",
    "    n=int(input())\n",
    "    s=solution()\n",
    "    s.printSeries(n)\n",
    "main()                \n"
   ]
  },
  {
   "cell_type": "code",
   "execution_count": 9,
   "metadata": {},
   "outputs": [
    {
     "name": "stdout",
     "output_type": "stream",
     "text": [
      "*****\n",
      "****\n",
      "***\n",
      "**\n",
      "*\n"
     ]
    }
   ],
   "source": [
    "class solution:\n",
    "    def printSeries(self,n):\n",
    "        i=1\n",
    "        while i<=n:\n",
    "            j=n\n",
    "            str=\"\"\n",
    "            while j>=i:\n",
    "                j=j-1\n",
    "                str=str+\"*\"\n",
    "            print(str)\n",
    "            i+=1\n",
    "def main():\n",
    "    n=int(input())\n",
    "    s=solution()\n",
    "    s.printSeries(n)\n",
    "main()                 "
   ]
  },
  {
   "cell_type": "code",
   "execution_count": 12,
   "metadata": {},
   "outputs": [
    {
     "name": "stdout",
     "output_type": "stream",
     "text": [
      "*****\n",
      "****\n",
      "***\n",
      "**\n",
      "*\n",
      "*\n",
      "**\n",
      "***\n",
      "****\n",
      "*****\n"
     ]
    }
   ],
   "source": [
    "class solution:\n",
    "    def printSeries(self,n):\n",
    "        for i in range(1,n+1):\n",
    "            for j in range(i,n+1):\n",
    "                print(\"*\",end=\"\")\n",
    "            print()\n",
    "        for i in range(n):\n",
    "            for j in range(i+1):\n",
    "                print(\"*\",end=\"\") \n",
    "            print()\n",
    "def main():\n",
    "    n=int(input())\n",
    "    s=solution() \n",
    "    s.printSeries(n)\n",
    "main()                          "
   ]
  },
  {
   "cell_type": "code",
   "execution_count": 14,
   "metadata": {},
   "outputs": [
    {
     "name": "stdout",
     "output_type": "stream",
     "text": [
      "*    *\n",
      "**   **\n",
      "***  ***\n",
      "**** ****\n",
      "**********\n"
     ]
    }
   ],
   "source": [
    "class solution:\n",
    "    def printSeries(self,n):\n",
    "        for i in range(n):\n",
    "            for j in range(i+1):\n",
    "                print(\"*\",end=\"\")\n",
    "            for j in range(i,n-1):\n",
    "                print(\" \",end=\"\")\n",
    "            for j in range(i+1):\n",
    "                print(\"*\",end=\"\") \n",
    "            print()\n",
    "def main():\n",
    "    n=int(input())\n",
    "    s=solution()\n",
    "    s.printSeries(n)\n",
    "main()                       \n"
   ]
  },
  {
   "cell_type": "code",
   "execution_count": 4,
   "metadata": {},
   "outputs": [
    {
     "name": "stdout",
     "output_type": "stream",
     "text": [
      "*****\n",
      "****\n",
      "***\n",
      "**\n",
      "*\n",
      "*\n",
      "**\n",
      "***\n",
      "****\n",
      "*****\n"
     ]
    }
   ],
   "source": [
    "class solution:\n",
    "    def printSeries(self,n):\n",
    "        i=1\n",
    "        while i<=n:\n",
    "            j=n\n",
    "            str=\"\"\n",
    "            while j>=i:\n",
    "                j-=1\n",
    "                str=str+\"*\"\n",
    "            print(str)\n",
    "            i+=1 \n",
    "        i=1\n",
    "        while i<=n:\n",
    "            j=1\n",
    "            str=\"\"\n",
    "            while j<=i:\n",
    "                j+=1\n",
    "                str=str+\"*\"\n",
    "            print(str)\n",
    "            i+=1           \n",
    "def main():\n",
    "    n=int(input())\n",
    "    s=solution()\n",
    "    s.printSeries(n)\n",
    "main()                            "
   ]
  },
  {
   "cell_type": "code",
   "execution_count": 5,
   "metadata": {},
   "outputs": [
    {
     "name": "stdout",
     "output_type": "stream",
     "text": [
      "*****\n",
      "****\n",
      "***\n",
      "**\n",
      "*\n",
      "*\n",
      "**\n",
      "***\n",
      "****\n",
      "*****\n"
     ]
    }
   ],
   "source": [
    "class solution:\n",
    "    def printSeries(self,n):\n",
    "        i=1\n",
    "        while i<=n:\n",
    "            j=n\n",
    "            str=\"\"\n",
    "            while j>=i:\n",
    "                j-=1\n",
    "                str+=\"*\"\n",
    "            print(str)\n",
    "            i+=1\n",
    "        i=1\n",
    "        while i<=n:\n",
    "            j=1\n",
    "            str=\"\"\n",
    "            while j<=i:\n",
    "                j+=1\n",
    "                str=str+(\"*\")\n",
    "            print(str)\n",
    "            i+=1\n",
    "def main():\n",
    "    n=int(input())\n",
    "    s=solution()\n",
    "    s.printSeries(n)\n",
    "main()    \n",
    "\n"
   ]
  },
  {
   "cell_type": "code",
   "execution_count": null,
   "metadata": {},
   "outputs": [],
   "source": []
  }
 ],
 "metadata": {
  "kernelspec": {
   "display_name": "Python 3",
   "language": "python",
   "name": "python3"
  },
  "language_info": {
   "codemirror_mode": {
    "name": "ipython",
    "version": 3
   },
   "file_extension": ".py",
   "mimetype": "text/x-python",
   "name": "python",
   "nbconvert_exporter": "python",
   "pygments_lexer": "ipython3",
   "version": "3.11.5"
  },
  "orig_nbformat": 4
 },
 "nbformat": 4,
 "nbformat_minor": 2
}
