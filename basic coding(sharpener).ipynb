{
 "cells": [
  {
   "cell_type": "code",
   "execution_count": 3,
   "metadata": {},
   "outputs": [
    {
     "name": "stdout",
     "output_type": "stream",
     "text": [
      "54\n",
      "43\n"
     ]
    }
   ],
   "source": [
    "class solution:\n",
    "    def SwapVariable(self,a,b):\n",
    "        swap=a\n",
    "        a=b\n",
    "        b=swap\n",
    "        print(a)\n",
    "        print(b)\n",
    "def main():\n",
    "    n=int(input())\n",
    "    p=int(input())\n",
    "    s=solution()\n",
    "    (s.SwapVariable(n,p))\n",
    "main()    \n"
   ]
  },
  {
   "cell_type": "code",
   "execution_count": 4,
   "metadata": {},
   "outputs": [
    {
     "name": "stdout",
     "output_type": "stream",
     "text": [
      "43\n"
     ]
    }
   ],
   "source": [
    "class solution:\n",
    "    def printLargest(self,a,b):\n",
    "        if a>b:\n",
    "            return a\n",
    "        return b\n",
    "def main():\n",
    "    n=int(input()) \n",
    "    p=int(input())\n",
    "    s=solution()\n",
    "    print(s.printLargest(n,p))\n",
    "main()       "
   ]
  },
  {
   "cell_type": "code",
   "execution_count": 6,
   "metadata": {},
   "outputs": [
    {
     "name": "stdout",
     "output_type": "stream",
     "text": [
      "67\n"
     ]
    }
   ],
   "source": [
    "class solution:\n",
    "    def largestNumber(self,a,b,c):\n",
    "        if (a>b) &(a>c):\n",
    "            return a\n",
    "        elif (b>a) &(b>c):\n",
    "            return b\n",
    "        return c\n",
    "def main():\n",
    "    n=int(input())\n",
    "    p=int(input())\n",
    "    r=int(input())\n",
    "    s=solution()\n",
    "    print(s.largestNumber(n,p,r))\n",
    "main()        "
   ]
  },
  {
   "cell_type": "code",
   "execution_count": 8,
   "metadata": {},
   "outputs": [
    {
     "name": "stdout",
     "output_type": "stream",
     "text": [
      "12\n"
     ]
    }
   ],
   "source": [
    "class solution:\n",
    "    def distancePrice(self,distance):\n",
    "        if (distance >=1000):\n",
    "            return 12\n",
    "        elif (distance >500 & distance<1000):\n",
    "            return 10\n",
    "        elif (distance >100 & distance<=500):\n",
    "            return 8\n",
    "        return 5\n",
    "def main():\n",
    "    distance=int(input())\n",
    "    s=solution()\n",
    "    print(s.distancePrice(distance))\n",
    "main()        \n"
   ]
  },
  {
   "cell_type": "code",
   "execution_count": 10,
   "metadata": {},
   "outputs": [
    {
     "name": "stdout",
     "output_type": "stream",
     "text": [
      "fail\n"
     ]
    }
   ],
   "source": [
    "class solution:\n",
    "    def Ternary(self,marks):\n",
    "        return 'pass' if marks>=40 else 'fail'\n",
    "def main():\n",
    "    marks=int(input()) \n",
    "    s=solution()\n",
    "    print(s.Ternary(marks))\n",
    "main()       "
   ]
  },
  {
   "cell_type": "code",
   "execution_count": 11,
   "metadata": {},
   "outputs": [
    {
     "name": "stdout",
     "output_type": "stream",
     "text": [
      "7\n"
     ]
    }
   ],
   "source": [
    "class solution:\n",
    "    def maxofTwo(self,a,b):\n",
    "        return a if a>b else b\n",
    "def main():\n",
    "    n=int(input())\n",
    "    p=int(input())\n",
    "    s=solution()\n",
    "    print(s.maxofTwo(n,p))\n",
    "main()        "
   ]
  },
  {
   "cell_type": "code",
   "execution_count": 13,
   "metadata": {},
   "outputs": [
    {
     "name": "stdout",
     "output_type": "stream",
     "text": [
      "wednesday\n"
     ]
    }
   ],
   "source": [
    "class solution:\n",
    "    def Weekdays(self,day):\n",
    "        if day==1:\n",
    "            return 'monday'\n",
    "        elif day==2:\n",
    "            return 'tuesday'\n",
    "        elif day==3:\n",
    "            return 'wednesday'\n",
    "        elif day==4:\n",
    "            return 'thrusday'\n",
    "        elif day==5:\n",
    "            return 'friday'\n",
    "        elif day==6:\n",
    "            return 'saturday'\n",
    "        elif day==7:\n",
    "            return 'sunday'\n",
    "        else:\n",
    "            return 'error 404'\n",
    "def main():\n",
    "    day =int(input())\n",
    "    s=solution()\n",
    "    print(s.Weekdays(day))\n",
    "main()            "
   ]
  },
  {
   "cell_type": "code",
   "execution_count": null,
   "metadata": {},
   "outputs": [],
   "source": []
  }
 ],
 "metadata": {
  "kernelspec": {
   "display_name": "Python 3",
   "language": "python",
   "name": "python3"
  },
  "language_info": {
   "codemirror_mode": {
    "name": "ipython",
    "version": 3
   },
   "file_extension": ".py",
   "mimetype": "text/x-python",
   "name": "python",
   "nbconvert_exporter": "python",
   "pygments_lexer": "ipython3",
   "version": "3.11.5"
  },
  "orig_nbformat": 4
 },
 "nbformat": 4,
 "nbformat_minor": 2
}
