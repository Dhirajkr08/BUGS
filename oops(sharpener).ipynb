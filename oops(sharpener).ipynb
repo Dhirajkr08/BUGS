{
 "cells": [
  {
   "cell_type": "code",
   "execution_count": 6,
   "metadata": {},
   "outputs": [
    {
     "name": "stdout",
     "output_type": "stream",
     "text": [
      "dhiraj \n",
      "1\n"
     ]
    }
   ],
   "source": [
    "class Student:\n",
    "    def __init__(self,name,rollNo):\n",
    "        self.name=name\n",
    "        self.roll=rollNo\n",
    "    \n",
    "    def printAttribtes(self):\n",
    "        print(self.name)\n",
    "        print(self.roll)\n",
    "def main():\n",
    "    name=input()\n",
    "    rollNo=int(input())\n",
    "    s=Student(name,rollNo)\n",
    "    (s.printAttribtes())\n",
    "main()    \n"
   ]
  },
  {
   "cell_type": "code",
   "execution_count": null,
   "metadata": {},
   "outputs": [],
   "source": []
  },
  {
   "cell_type": "code",
   "execution_count": 7,
   "metadata": {},
   "outputs": [
    {
     "name": "stdout",
     "output_type": "stream",
     "text": [
      "Area of triangle is = 48\n",
      "perimeter of triangle = 12\n"
     ]
    }
   ],
   "source": [
    "class Triangle:\n",
    "    def __init__(self,a,b,c):\n",
    "        self.side1=a\n",
    "        self.side2=b\n",
    "        self.side3=c\n",
    "    def calculateArea(self):\n",
    "        return (self.side1*self.side2*self.side3)\n",
    "    def calculatePerimeter(self):\n",
    "        return (self.side1+self.side2+self.side3) \n",
    "def main():\n",
    "    a=int(input())\n",
    "    b=int(input())\n",
    "    c=int(input())\n",
    "    t=Triangle(a,b,c)\n",
    "    print(\"Area of triangle is =\",t.calculateArea())\n",
    "\n",
    "    print(\"perimeter of triangle =\",t.calculatePerimeter())   \n",
    "main()       "
   ]
  },
  {
   "cell_type": "code",
   "execution_count": 9,
   "metadata": {},
   "outputs": [
    {
     "name": "stdout",
     "output_type": "stream",
     "text": [
      "Dhiraj 26 1997\n"
     ]
    }
   ],
   "source": [
    "class Employee:\n",
    "    def __init__(self,name,age,year):\n",
    "        self.name=name\n",
    "        self.age=age\n",
    "        self.year=year\n",
    "    def printDetails(self):\n",
    "        print(self.name,self.year,self.age)\n",
    "        \n",
    "def main():\n",
    "    name=input()\n",
    "    age=int(input())\n",
    "    year=int(input())\n",
    "    e=Employee(name,age,year)\n",
    "    (e.printDetails())   \n",
    "main()             "
   ]
  },
  {
   "cell_type": "code",
   "execution_count": 13,
   "metadata": {},
   "outputs": [
    {
     "name": "stdout",
     "output_type": "stream",
     "text": [
      "335.0\n"
     ]
    }
   ],
   "source": [
    "class Employee:\n",
    "    def getInfo(self,salary,workingHrs):\n",
    "        self.salary=salary\n",
    "        self.hrs=workingHrs\n",
    "    def AddSal(self):\n",
    "        if self.salary<500:\n",
    "            self.salary+=10\n",
    "    def AddWork(self):\n",
    "        if self.hrs>6:\n",
    "            self.salary+=5\n",
    "def main():\n",
    "    salary=float(input())\n",
    "    hrs=float(input())   \n",
    "    e=Employee()\n",
    "    e.getInfo(salary,hrs)\n",
    "    e.AddSal()\n",
    "    e.AddWork()\n",
    "    print(e.salary)\n",
    "main()    "
   ]
  },
  {
   "cell_type": "code",
   "execution_count": 14,
   "metadata": {},
   "outputs": [
    {
     "name": "stdout",
     "output_type": "stream",
     "text": [
      "382.0\n"
     ]
    }
   ],
   "source": [
    "class Employee:\n",
    "    def getInfo(self,salary,workinghrs):\n",
    "        self.salary=salary\n",
    "        self.hrs=workinghrs\n",
    "    def Addsal(self):\n",
    "        if self.salary<500:\n",
    "            self.salary+=10\n",
    "    def Addwork(self):\n",
    "        if self.hrs>6:\n",
    "            self.salary+=5\n",
    "def main():\n",
    "    salary=float(input())\n",
    "    hrs=float(input()) \n",
    "    e=Employee()\n",
    "    e.getInfo(salary,hrs) \n",
    "    e.Addsal()\n",
    "    e.Addwork()\n",
    "    print(e.salary)\n",
    "main()                         "
   ]
  },
  {
   "cell_type": "code",
   "execution_count": 16,
   "metadata": {},
   "outputs": [
    {
     "name": "stdout",
     "output_type": "stream",
     "text": [
      "1\n"
     ]
    }
   ],
   "source": [
    "class countObject:\n",
    "    count=0\n",
    "    def __init__(self,name):\n",
    "        self.name=name\n",
    "        countObject.count+=1\n",
    "    def counter(self):\n",
    "        return countObject.count\n",
    "def main():\n",
    "    name=str(input())\n",
    "    c=countObject(name)\n",
    "    print(c.counter())\n",
    "main()       \n",
    "    \n",
    "\n"
   ]
  },
  {
   "cell_type": "code",
   "execution_count": 17,
   "metadata": {},
   "outputs": [
    {
     "name": "stdout",
     "output_type": "stream",
     "text": [
      "1\n"
     ]
    }
   ],
   "source": [
    "class countObject:\n",
    "    count=0\n",
    "    def __init__(self,name):\n",
    "        self.name=name\n",
    "        countObject.count+=1\n",
    "    def object(self):\n",
    "        return countObject.count\n",
    "def main():\n",
    "    name=(input())\n",
    "    c=countObject(name)\n",
    "    print(c.object())\n",
    "main()    \n",
    "\n",
    "        \n"
   ]
  },
  {
   "cell_type": "code",
   "execution_count": 18,
   "metadata": {},
   "outputs": [
    {
     "name": "stdout",
     "output_type": "stream",
     "text": [
      "1\n"
     ]
    }
   ],
   "source": [
    "class countObject:\n",
    "    count=0\n",
    "\n",
    "    def __init__(self):\n",
    "        countObject.count+=1\n",
    "    def printAttributes(self):\n",
    "        return countObject.count\n",
    "def main():\n",
    "    c=countObject()  \n",
    "    print(c.printAttributes())   \n",
    "main()       \n"
   ]
  },
  {
   "cell_type": "code",
   "execution_count": 19,
   "metadata": {},
   "outputs": [
    {
     "name": "stdout",
     "output_type": "stream",
     "text": [
      "This is Rectangle\n",
      "this is Shape\n"
     ]
    }
   ],
   "source": [
    "class Shape:\n",
    "    def printShape(self):\n",
    "        print(\"this is Shape\")\n",
    "class Rectangle(Shape):\n",
    "    def __init__(self):\n",
    "        print(\"This is Rectangle\")\n",
    "class Circle(Shape):\n",
    "    def __init__(self):\n",
    "        print(\"this is Circle\")\n",
    "class Square(Rectangle):\n",
    "    def printSquare(self):\n",
    "        print(\"Square is Rectangle\")\n",
    "s=Square()\n",
    "s.printShape()                              "
   ]
  },
  {
   "cell_type": "code",
   "execution_count": 28,
   "metadata": {},
   "outputs": [
    {
     "name": "stdout",
     "output_type": "stream",
     "text": [
      "This is a Parent class\n",
      "This is a Parent class\n",
      "this is a child class\n"
     ]
    }
   ],
   "source": [
    "class PARENT:\n",
    "    def print(self):\n",
    "        print(\"This is a Parent class\")\n",
    "class CHILD(PARENT):\n",
    "    def print(self):\n",
    "        super().print()\n",
    "        print(\"this is a child class\")\n",
    "p=PARENT()\n",
    "\n",
    "c=CHILD()\n",
    "p.print() \n",
    "c.print()\n",
    "\n",
    "\n"
   ]
  },
  {
   "cell_type": "code",
   "execution_count": 34,
   "metadata": {},
   "outputs": [
    {
     "name": "stdout",
     "output_type": "stream",
     "text": [
      "Jane Smith\n",
      "HR\n",
      "75000\n",
      "John Doe\n",
      "Software Engineer\n",
      "50000\n"
     ]
    }
   ],
   "source": [
    "class Member:\n",
    "    def __init__(self,Name,Age,Phone,Address,Salary):\n",
    "        self.Name=Name\n",
    "        self.Age=Age\n",
    "        self.Phone=Phone\n",
    "        self.Address=Address\n",
    "        self.Salary=Salary\n",
    "    def printSalary(self):\n",
    "        print(self.Salary)\n",
    "class Manager(Member):\n",
    "    def __init__(self,Name,Age,Phone,Address,Salary,department):\n",
    "        self.department=department\n",
    "        super().__init__(Name,Age,Phone,Address,Salary) \n",
    "    def printDetails(self):\n",
    "        print(self.Name)\n",
    "        print(self.department)\n",
    "class Employee(Member):\n",
    "    def __init__(self,Name,Age,Phone,Address,Salary,specialization):\n",
    "        self.specialization=specialization\n",
    "        super().__init__(Name,Age,Phone,Address,Salary)\n",
    "    def printDetails(self):\n",
    "        print(self.Name)\n",
    "        print(self.specialization)            \n",
    "m=Manager(\"Jane Smith\", 35, \"987-654-3210\", \"456 Elm St\", 75000, \"HR\")\n",
    "m.printDetails()\n",
    "m.printSalary()\n",
    "e=Employee(\"John Doe\", 30, \"123-456-7890\", \"123 Main St\", 50000, \"Software Engineer\")\n",
    "e.printDetails()\n",
    "e.printSalary()\n",
    "\n",
    "\n"
   ]
  },
  {
   "cell_type": "code",
   "execution_count": 37,
   "metadata": {},
   "outputs": [
    {
     "name": "stdout",
     "output_type": "stream",
     "text": [
      "4\n"
     ]
    }
   ],
   "source": [
    "class solution:\n",
    "    def BinarySearch(self,nums,target):\n",
    "        l=0\n",
    "        h=len(nums)-1\n",
    "        while l<=h:\n",
    "            mid=(l+h)//2\n",
    "            if nums[mid]==target:\n",
    "                return mid\n",
    "            elif nums[mid]>=target:\n",
    "                h=mid-1\n",
    "            else:\n",
    "                l=mid+1\n",
    "                    \n",
    "def main():\n",
    "    n=int(input())\n",
    "    \n",
    "    arr=[]\n",
    "    for i in range(n):\n",
    "        arr.append(int(input()))\n",
    "    s=solution()\n",
    "    p=int(input())\n",
    "    print(s.BinarySearch(arr,p))\n",
    "main()                        \n",
    "\n"
   ]
  },
  {
   "cell_type": "code",
   "execution_count": 1,
   "metadata": {},
   "outputs": [
    {
     "name": "stdout",
     "output_type": "stream",
     "text": [
      "2\n"
     ]
    }
   ],
   "source": [
    "class solution:\n",
    "    def PeakElement(self,nums):\n",
    "        l=0\n",
    "        h=len(nums)-1\n",
    "        while  l<=h:\n",
    "            mid=(l+h)//2\n",
    "            if nums[mid]>nums[mid-1] and nums[mid]>nums[mid+1]:\n",
    "                return mid\n",
    "            elif nums[mid]>nums[mid+1]:\n",
    "                h=mid-1\n",
    "            else:\n",
    "                l=mid+1\n",
    "        return l\n",
    "def main():\n",
    "    n=int(input())\n",
    "    arr=[]\n",
    "    for i in range(n):\n",
    "        arr.append(int(input()))\n",
    "    s=solution() \n",
    "    print(s.PeakElement(arr))\n",
    "main()                       \n"
   ]
  },
  {
   "cell_type": "code",
   "execution_count": 3,
   "metadata": {},
   "outputs": [
    {
     "name": "stdout",
     "output_type": "stream",
     "text": [
      "2\n"
     ]
    }
   ],
   "source": [
    "class solution:\n",
    "    def PeakElement(self,nums):\n",
    "        l=0\n",
    "        h=len(nums)-1\n",
    "        while l<=h:\n",
    "            mid=(l+h)//2\n",
    "            if nums[mid]>=nums[mid-1] and nums[mid]>=nums[mid+1]:\n",
    "                return mid\n",
    "            elif nums[mid]>=nums[mid+1]:\n",
    "                h=mid-1\n",
    "            else:\n",
    "                l=mid+1\n",
    "        return l\n",
    "def main():\n",
    "    n=int(input())\n",
    "    arr=[]\n",
    "    for i in range(n):\n",
    "        arr.append(int(input()))\n",
    "    s=solution()\n",
    "    print(s.PeakElement(arr))\n",
    "main()                        \n"
   ]
  },
  {
   "cell_type": "code",
   "execution_count": 4,
   "metadata": {},
   "outputs": [
    {
     "name": "stdout",
     "output_type": "stream",
     "text": [
      "4\n"
     ]
    }
   ],
   "source": [
    "class solution:\n",
    "    def rotatedArray(self,nums,target):\n",
    "        l=0\n",
    "        h=len(nums)-1\n",
    "        while l<=h:\n",
    "            mid=(l+h)//2\n",
    "            if nums[mid]==target:\n",
    "                return mid\n",
    "            elif nums[mid]>nums[l]:\n",
    "                if target<=nums[mid] and target>=nums[l]:\n",
    "                    h=mid-1\n",
    "                else:\n",
    "                    l=mid+1\n",
    "            else:\n",
    "                if target>=nums[mid] and target<=nums[h]:\n",
    "                    l=mid+1\n",
    "                else:\n",
    "                    h=mid-1\n",
    "        return -1\n",
    "def main():\n",
    "    n=int(input())\n",
    "    arr=[]\n",
    "    for i in range(n):\n",
    "        arr.append(int(input())) \n",
    "    k=int(input())\n",
    "    s=solution()\n",
    "    print(s.rotatedArray(arr,k)) \n",
    "main()\n",
    "                                      \n",
    "\n"
   ]
  },
  {
   "cell_type": "code",
   "execution_count": 2,
   "metadata": {},
   "outputs": [
    {
     "name": "stdout",
     "output_type": "stream",
     "text": [
      "4\n"
     ]
    }
   ],
   "source": [
    "class solution:\n",
    "    def rotatedArray(self,nums,target):\n",
    "        l=0\n",
    "        h=len(nums)-1\n",
    "        while l<=h:\n",
    "            mid=(l+h)//2\n",
    "            if nums[mid]==target:\n",
    "                return mid\n",
    "            elif nums[mid]>nums[l]:\n",
    "                if target<=nums[mid] and target>=nums[l]:\n",
    "                    h=mid-1\n",
    "                else:\n",
    "                    l=mid+1\n",
    "            else:\n",
    "                if target>=nums[mid] and target<=nums[h]:\n",
    "                    l=mid+1\n",
    "                else:\n",
    "                    h=mid-1\n",
    "        return -1                            \n",
    "                \n",
    "def main():\n",
    "    n=int(input())\n",
    "    arr=[]\n",
    "    for i in range(n):\n",
    "        arr.append(int(input())) \n",
    "    k=int(input())\n",
    "    s=solution()\n",
    "    print(s.rotatedArray(arr,k))\n",
    "main()                       \n"
   ]
  },
  {
   "cell_type": "code",
   "execution_count": 1,
   "metadata": {},
   "outputs": [
    {
     "name": "stdout",
     "output_type": "stream",
     "text": [
      "2\n"
     ]
    }
   ],
   "source": [
    "class solution:\n",
    "    def PeakElement(self,nums):\n",
    "        l=0\n",
    "        h=len(nums)-1\n",
    "        while l<=h:\n",
    "            mid=(l+h)//2\n",
    "            if nums[mid]>=nums[mid-1] and nums[mid]>=nums[mid+1]:\n",
    "                return mid\n",
    "            elif nums[mid]>=nums[mid+1]:\n",
    "                h=mid-1\n",
    "            else:\n",
    "                l=mid+1\n",
    "        return l\n",
    "def main():\n",
    "    n=int(input())                \n",
    "    arr=[]\n",
    "    for i in range(n):\n",
    "        arr.append(int(input()))\n",
    "    s=solution()\n",
    "    print(s.PeakElement(arr))\n",
    "main()        "
   ]
  },
  {
   "cell_type": "code",
   "execution_count": 2,
   "metadata": {},
   "outputs": [
    {
     "name": "stdout",
     "output_type": "stream",
     "text": [
      "2\n"
     ]
    }
   ],
   "source": [
    "class solution:\n",
    "    def PeaakElement(self,nums):\n",
    "        l=0\n",
    "        h=len(nums)-1\n",
    "        while l<=h:\n",
    "            mid=(l+h)//2\n",
    "            if nums[mid]>=nums[mid-1] and nums[mid]>=nums[mid+1]:\n",
    "                return mid\n",
    "            elif nums[mid]>=nums[mid+1]:\n",
    "                h=mid-1\n",
    "            else:\n",
    "                l=mid+1\n",
    "        return l\n",
    "def main():\n",
    "    n=int(input())\n",
    "    arr=[]\n",
    "    for i in range(n):\n",
    "        arr.append(int(input()))\n",
    "    s=solution()\n",
    "    print(s.PeaakElement(arr))\n",
    "main()                        "
   ]
  },
  {
   "cell_type": "code",
   "execution_count": 3,
   "metadata": {},
   "outputs": [
    {
     "name": "stdout",
     "output_type": "stream",
     "text": [
      "4\n"
     ]
    }
   ],
   "source": [
    "class solution:\n",
    "    def RotatedArray(self,nums,target):\n",
    "        l=0\n",
    "        h=len(nums)-1\n",
    "        while l<=h:\n",
    "            mid=(l+h)//2\n",
    "            if nums[mid]==target:\n",
    "                return mid\n",
    "            elif nums[mid]>=nums[l]:\n",
    "                if target<=nums[mid] and target>=nums[l]:\n",
    "                    h=mid-1\n",
    "                else:\n",
    "                    l=mid+1\n",
    "            else:\n",
    "                if target>=nums[mid] and target<=nums[h]:\n",
    "                    l=mid+1\n",
    "                else:\n",
    "                    h=mid-1\n",
    "        return -1\n",
    "def main():\n",
    "    n=int(input()) \n",
    "    arr=[]\n",
    "    for i in range(n):\n",
    "        arr.append(int(input()))\n",
    "    s=solution()\n",
    "    k=int(input())\n",
    "    print(s.RotatedArray(arr,k))\n",
    "main()                                       \n"
   ]
  },
  {
   "cell_type": "code",
   "execution_count": 39,
   "metadata": {},
   "outputs": [
    {
     "name": "stdout",
     "output_type": "stream",
     "text": [
      "{0: 'Welcome', 1: 'for', 2: 'random'}\n",
      "{0: 'Welcome', 1: 'for', 2: 'random', 'valueSet': (2, 3, 4)}\n",
      "{0: 'Welcome', 1: 'for', 2: 'random', 'valueSet': (2, 3, 4), 3: {'nested': {'1': 'life', 2: 'is', 3: 'good'}}}\n",
      "random\n",
      "{1: 'geeks'}\n",
      "geeks\n",
      "for\n",
      "{'Dict1': {1: 'geeks'}, 'Dict2': {'Name': 'for'}}\n",
      "{'Name': 'for'}\n",
      "None\n",
      "dict_items([('Dict1', {1: 'geeks'}), ('Dict2', {'Name': 'for'})])\n",
      "dict_keys(['Dict1', 'Dict2'])\n"
     ]
    }
   ],
   "source": [
    "# here i am doing dictionary practise for random enhancement\n",
    "'''\n",
    "Dict={1:'geeks',2:'for',3:'geeks'}\n",
    "print(Dict)\n",
    "print(Dict[2])\n",
    "'''\n",
    "\n",
    "'''\n",
    "d={'Name':'Geeks',1:[1,2,3,4]}\n",
    "print(d)\n",
    "print(d[1])\n",
    "print(d['Name'])\n",
    "'''\n",
    "\n",
    "#using dict method\n",
    "'''\n",
    "Dict=dict({1:'geeks',2:'for',3:'geeks'})\n",
    "print(Dict)\n",
    "'''\n",
    "\n",
    "#creating dictionary in pair\n",
    "'''\n",
    "d=dict({(1,'Geeks'),(2,'Awesome')})\n",
    "print(d)\n",
    "'''\n",
    "# creating Nested Dictionary\n",
    "'''\n",
    "d={1:'Geeks',2:'for',3:{'A':\"welcome\",'B':'To','c':'Geeks'}}\n",
    "print(d)\n",
    "'''\n",
    "\n",
    "#Adding one at a time\n",
    "Dict={}\n",
    "Dict[0]=\"Geeks\"\n",
    "Dict[1]='for'\n",
    "Dict[2]=\"Geeks\"\n",
    "#print(Dict)\n",
    "Dict[2]=\"random\"\n",
    "#print(Dict)\n",
    "Dict[0]=\"Welcome\"\n",
    "print(Dict)\n",
    "\n",
    "# adding set of values\n",
    "Dict['valueSet']=2,3,4\n",
    "print(Dict)\n",
    "\n",
    "# adding nested key value for Dictionary\n",
    "Dict[3]={'nested':{'1':'life',2:'is',3:'good'}}\n",
    "print(Dict)\n",
    "print(Dict.get(2))\n",
    "\n",
    "\n",
    "Dict={'Dict1':{1:'geeks'},'Dict2':{'Name':'for'}}\n",
    "print(Dict['Dict1'])\n",
    "print(Dict['Dict1'][1])\n",
    "print(Dict['Dict2']['Name'])\n",
    "print(Dict.copy())\n",
    "print (Dict.get('Dict2'))\n",
    "print(Dict.get('Dict'))\n",
    "print(Dict.items())\n",
    "print(Dict.keys())\n",
    "\n",
    "\n",
    "\n",
    "\n"
   ]
  },
  {
   "cell_type": "code",
   "execution_count": 52,
   "metadata": {},
   "outputs": [
    {
     "name": "stdout",
     "output_type": "stream",
     "text": [
      "{1: 'python', 2: 'Java', 3: 'Ruby', 4: 'scale'}\n",
      "{1: 'python', 2: 'Java', 3: 'Ruby', 4: 'scale'}\n",
      "{}\n",
      "Java\n",
      "dict_items([(1, 'python'), (2, 'Java'), (3, 'Ruby'), (4, 'scale')])\n",
      "dict_keys([1, 2, 3, 4])\n",
      "{1: 'python', 2: 'Java', 4: 'scale'}\n",
      "{1: 'python', 2: 'Java'}\n",
      "{1: 'python', 2: 'Java', 3: 'scan'}\n",
      "dict_values(['python', 'Java', 'scan'])\n",
      "dict_keys([1, 2, 3])\n"
     ]
    }
   ],
   "source": [
    "#Demo for all the dictonary methods\n",
    "dict1={1:\"python\",2:'Java',3:'Ruby',4:'scale'}\n",
    "print(dict1)\n",
    "\n",
    "# copy the dict\n",
    "dict2=dict1.copy()\n",
    "print(dict2)\n",
    "\n",
    "# clear method\n",
    "dict1.clear()\n",
    "print(dict1)\n",
    "\n",
    "# get method\n",
    "print(dict2.get(2))\n",
    "\n",
    "#items method\n",
    "print(dict2.items())\n",
    "\n",
    "# keys method\n",
    "print(dict2.keys())\n",
    "\n",
    "#pop method\n",
    "dict2.pop(3)\n",
    "print(dict2)\n",
    "\n",
    "#popItem\n",
    "dict2.popitem()\n",
    "print(dict2)\n",
    "\n",
    "#update method\n",
    "dict2.update({3:\"scan\"})\n",
    "print(dict2)\n",
    "\n",
    "# values method\n",
    "print(dict2.values())\n",
    "\n",
    "# keys method\n",
    "print(dict2.keys())\n",
    "\n",
    "\n"
   ]
  },
  {
   "cell_type": "code",
   "execution_count": 54,
   "metadata": {},
   "outputs": [],
   "source": [
    "class solution:\n",
    "    def roratedArray(self,nums,target):\n",
    "        l=0\n",
    "        h=len(nums)-1\n",
    "        while l<=h:\n",
    "            mid=(l+h)//2\n",
    "            if nums[mid]==target:\n",
    "                return mid\n",
    "            elif nums[mid]>=nums[l]:\n",
    "                if target<=nums[mid] and target>=nums[l]:\n",
    "                    h=mid-1\n",
    "                else:\n",
    "                    l=mid+1\n",
    "            else:\n",
    "                if target>=nums[mid] and target<=nums[h]:\n",
    "                    l=mid+1\n",
    "                else:\n",
    "                    h=mid-1\n",
    "        return -1\n",
    "def main():\n",
    "    n=int(input())\n",
    "    arr=[]\n",
    "    for i in range(n):\n",
    "        arr.append(input()) \n",
    "    s=solution()\n",
    "    k=int(input())\n",
    "    print(s.roratedArray(arr,k))  \n",
    "main()      \n",
    "                                     "
   ]
  },
  {
   "cell_type": "code",
   "execution_count": null,
   "metadata": {},
   "outputs": [],
   "source": [
    "class solution:\n",
    "    def BinarySearch(self,nums,target):\n",
    "        l=0\n",
    "        h=len(nums)-1\n",
    "        while l<=h:\n",
    "            mid=(l+h)//2\n",
    "            if nums[mid]==target:\n",
    "                return mid\n",
    "            elif nums[mid]>=target:\n",
    "                h=mid-1\n",
    "            else:\n",
    "                l=mid+1\n",
    "        return -1\n",
    "def main():\n",
    "    n=int(input())\n",
    "    arr=[]\n",
    "    for i in range(n):\n",
    "        arr.append(int(input()))\n",
    "    s=solution()\n",
    "    p=int(input())\n",
    "    print(s.BinarySearch(arr,p))   \n",
    "main()    \n",
    "\n"
   ]
  },
  {
   "cell_type": "code",
   "execution_count": null,
   "metadata": {},
   "outputs": [],
   "source": [
    "class solution:\n",
    "    def PeakElemet(self,nums):\n",
    "        l=0\n",
    "        h=len(nums)-1\n",
    "        while l<=h:\n",
    "            mid=(l+h)//2\n",
    "            if nums[mid]>=nums[mid-1] and nums[mid]>=nums[mid+1]:\n",
    "                return mid\n",
    "            elif nums[mid]>=nums[mid+1]:\n",
    "                h=mid-1\n",
    "            else:\n",
    "                l=mid+1\n",
    "        return l\n",
    "def main():\n",
    "    n=int(input())\n",
    "    arr=[]\n",
    "    for i in range(n):\n",
    "        arr.append(int(input()))\n",
    "    s=solution()\n",
    "    print(s.PeakElemet(arr))\n",
    "main()                        "
   ]
  },
  {
   "cell_type": "code",
   "execution_count": 1,
   "metadata": {},
   "outputs": [
    {
     "name": "stdout",
     "output_type": "stream",
     "text": [
      "-1\n"
     ]
    }
   ],
   "source": [
    "class solution:\n",
    "    def RotatedArray(self,nums,target):\n",
    "        l=0\n",
    "        h=len(nums)-1\n",
    "        while l<=h:\n",
    "            mid=(l+h)//2\n",
    "            if nums[mid]==target:\n",
    "                return mid\n",
    "            elif nums[mid]>=nums[l]:\n",
    "                if target<=nums[mid] and target>=nums[l]:\n",
    "                    h=mid-1\n",
    "                else:\n",
    "                    l=mid+1\n",
    "            else:\n",
    "                if target>=nums[mid] and target<=nums[h]:\n",
    "                    l=mid+1\n",
    "                else:\n",
    "                    h=mid-1\n",
    "        return -1\n",
    "def main():\n",
    "    n=int(input()) \n",
    "    arr=[]\n",
    "    for i in range(n):\n",
    "        arr.append(int(input()))\n",
    "    s=solution()\n",
    "    k=int(input())\n",
    "    print(s.RotatedArray(arr,k))\n",
    "main()                                       \n"
   ]
  },
  {
   "cell_type": "code",
   "execution_count": null,
   "metadata": {},
   "outputs": [],
   "source": [
    "class solution:\n",
    "    def TwoSum(self,nums,target):\n",
    "        l={}\n",
    "        for i in range(len(nums)):\n",
    "            if target-nums[i] in l:\n",
    "                return [l[target-nums[i]],i]\n",
    "            else:\n",
    "                l[nums[i]]=i\n",
    "def main():\n",
    "    n=int(input())\n",
    "    arr=[]\n",
    "    for i in range(n):\n",
    "        arr.append(int(input()))\n",
    "    s=solution()\n",
    "    k=int(input())\n",
    "    print(s.TwoSum(arr,k))\n",
    "main()                        "
   ]
  },
  {
   "cell_type": "code",
   "execution_count": 2,
   "metadata": {},
   "outputs": [
    {
     "name": "stdout",
     "output_type": "stream",
     "text": [
      "[0, 1]\n"
     ]
    }
   ],
   "source": [
    "class solution:\n",
    "    def TwoSum(self,nums,target):\n",
    "        l={}\n",
    "        for i in range(len(nums)):\n",
    "            if target-nums[i] in l:\n",
    "                return [l[target-nums[i]],i]\n",
    "            else:\n",
    "                l[nums[i]]=i\n",
    "def main():\n",
    "    n=int(input())\n",
    "    arr=[]\n",
    "    for i in range(n):\n",
    "        arr.append(int(input()))\n",
    "    s=solution()\n",
    "    k=int(input())\n",
    "    print(s.TwoSum(arr,k))\n",
    "main()                "
   ]
  },
  {
   "cell_type": "code",
   "execution_count": 3,
   "metadata": {},
   "outputs": [
    {
     "name": "stdout",
     "output_type": "stream",
     "text": [
      "[0, 1]\n"
     ]
    }
   ],
   "source": [
    "class solution:\n",
    "    def TwoSum(self,nums,target):\n",
    "        l={}\n",
    "        for i in range(len(nums)):\n",
    "            if target-nums[i] in l:\n",
    "                return [l[target-nums[i]],i]\n",
    "            else:\n",
    "                l[nums[i]]=i\n",
    "def main():\n",
    "    n=int(input())\n",
    "    arr=[]\n",
    "    for i in range(n):\n",
    "        arr.append(int(input())) \n",
    "    s=solution()\n",
    "    k=int(input())\n",
    "    print(s.TwoSum(arr,k))\n",
    "main()                           "
   ]
  },
  {
   "cell_type": "code",
   "execution_count": 5,
   "metadata": {},
   "outputs": [
    {
     "name": "stdout",
     "output_type": "stream",
     "text": [
      "[0, 1]\n"
     ]
    }
   ],
   "source": [
    "class solution:\n",
    "    def TwoSum(self,nums,target):\n",
    "        l={}\n",
    "        for i in range(len(nums)):\n",
    "            if target-nums[i] in l:\n",
    "                return [l[target-nums[i]],i]\n",
    "            else:\n",
    "                l[nums[i]]=i       \n",
    "def main():\n",
    "    n=int(input())\n",
    "    arr=[]\n",
    "    for i in range(n):\n",
    "        arr.append(int(input()))\n",
    "    s=solution()\n",
    "    k=int(input()) \n",
    "    print(s.TwoSum(arr,k))\n",
    "main()                       "
   ]
  },
  {
   "cell_type": "code",
   "execution_count": 6,
   "metadata": {},
   "outputs": [
    {
     "name": "stdout",
     "output_type": "stream",
     "text": [
      "[0, 1]\n"
     ]
    }
   ],
   "source": [
    "class solution:\n",
    "    def TwoSum(self,nums,target):\n",
    "        l={}\n",
    "        for i in range(len(nums)):\n",
    "            if target-nums[i] in l:\n",
    "                return [l[target-nums[i]],i]\n",
    "            l[nums[i]]=i\n",
    "def main():\n",
    "    n=int(input())\n",
    "    arr=[]\n",
    "    for i in range(n):\n",
    "        arr.append(int(input()))\n",
    "    s=solution()\n",
    "    k=int(input())\n",
    "    print(s.TwoSum(arr,k))\n",
    "main()    \n",
    "\n"
   ]
  },
  {
   "cell_type": "code",
   "execution_count": 9,
   "metadata": {},
   "outputs": [
    {
     "name": "stdout",
     "output_type": "stream",
     "text": [
      "2\n"
     ]
    }
   ],
   "source": [
    "class solution:\n",
    "    def findLuckInt(self,arr):\n",
    "        l=-1\n",
    "        h=set(arr)\n",
    "        for i in h:\n",
    "            c=arr.count(i)\n",
    "            if i==c:\n",
    "                l=max(l,i)\n",
    "        return l      \n",
    "def main():\n",
    "    n=int(input())\n",
    "    arr=[]\n",
    "    for i in range(n):\n",
    "        arr.append(int(input()))\n",
    "    s=solution()\n",
    "    print(s.findLuckInt(arr))\n",
    "main()        "
   ]
  },
  {
   "cell_type": "code",
   "execution_count": 11,
   "metadata": {},
   "outputs": [
    {
     "name": "stdout",
     "output_type": "stream",
     "text": [
      "2\n"
     ]
    }
   ],
   "source": [
    "class solution:\n",
    "    def LuckyInt(self,arr):\n",
    "        l=-1\n",
    "        h=set(arr)\n",
    "        for i in h:\n",
    "            c=arr.count(i)\n",
    "            if i==c: \n",
    "                l=max(l,i) \n",
    "        return l\n",
    "def main():\n",
    "    n=int(input())\n",
    "    arr=[]\n",
    "    for i in range(n):\n",
    "        arr.append(int(input()))\n",
    "    s=solution()\n",
    "    print(s.LuckyInt(arr))\n",
    "main()                \n"
   ]
  },
  {
   "cell_type": "code",
   "execution_count": 12,
   "metadata": {},
   "outputs": [
    {
     "name": "stdout",
     "output_type": "stream",
     "text": [
      "2\n"
     ]
    }
   ],
   "source": [
    "class solution:\n",
    "    def luckyInt(self,arr):\n",
    "        l=-1\n",
    "        h=set(arr)\n",
    "        for i in h:\n",
    "            c=arr.count(i)\n",
    "            if i==c:\n",
    "                l=max(l,i)\n",
    "        return l        \n",
    "\n",
    "def main():\n",
    "    n=int(input())\n",
    "    arr=[]\n",
    "    for i in range(n):\n",
    "        arr.append(int(input()))\n",
    "    s=solution()\n",
    "    print(s.luckyInt(arr))\n",
    "main()                    \n"
   ]
  },
  {
   "cell_type": "code",
   "execution_count": 21,
   "metadata": {},
   "outputs": [
    {
     "name": "stdout",
     "output_type": "stream",
     "text": [
      "CRj 19000\n",
      "Avj 21000\n",
      "Drj 38000\n"
     ]
    }
   ],
   "source": [
    "class Employee:\n",
    "    def __init__(self,name,salary):\n",
    "        self.salary=salary\n",
    "        self.name=name\n",
    "def sortEmp(arr):\n",
    "    for i in range(len(arr)-1):\n",
    "        for j in range(len(arr)-1-i):\n",
    "            if arr[j].salary>=arr[j+1].salary:\n",
    "                temp=arr[j]\n",
    "                arr[j]=arr[j+1]\n",
    "                arr[j+1]=temp\n",
    "    return arr\n",
    "e1=[Employee('Drj',38000),\n",
    "    Employee('CRj',19000),\n",
    "    Employee('Avj',21000)]\n",
    "sortEmp(e1)\n",
    "for i in e1:\n",
    "    print(i.name,i.salary)\n",
    "\n",
    "    \n",
    "\n",
    "    \n",
    "                     "
   ]
  },
  {
   "cell_type": "code",
   "execution_count": null,
   "metadata": {},
   "outputs": [],
   "source": [
    "class solution:\n",
    "    def CountPrime(self,n):\n",
    "        if n<=2:\n",
    "            return 0\n",
    "        p=[1]*n\n",
    "        p[0]=0\n",
    "        p[1]=0\n",
    "        for i in range(2,int(n**0.5)+1):\n",
    "            if p[i]!=0:\n",
    "                for j in range(i**2,n,i):\n",
    "                    p[j]=0\n",
    "        return sum(p)                       \n",
    "def main():\n",
    "    n=int(input())\n",
    "    s=solution()\n",
    "    print(s.CountPrime(n))\n",
    "main()                    \n"
   ]
  },
  {
   "cell_type": "code",
   "execution_count": 1,
   "metadata": {},
   "outputs": [
    {
     "name": "stdout",
     "output_type": "stream",
     "text": [
      "3\n"
     ]
    }
   ],
   "source": [
    "class solution:\n",
    "    def jewelStone(self,jewels,stone):\n",
    "        count=0\n",
    "        for i in range(len(jewels)):\n",
    "            for j in range(len(stone)):\n",
    "                if jewels[i]==stone[j]:\n",
    "                    count+=1\n",
    "        return count\n",
    "def main():\n",
    "    n=(input())\n",
    "    p=input() \n",
    "    s=solution()\n",
    "    print(s.jewelStone(n,p))\n",
    "main()                 \n"
   ]
  }
 ],
 "metadata": {
  "kernelspec": {
   "display_name": "Python 3",
   "language": "python",
   "name": "python3"
  },
  "language_info": {
   "codemirror_mode": {
    "name": "ipython",
    "version": 3
   },
   "file_extension": ".py",
   "mimetype": "text/x-python",
   "name": "python",
   "nbconvert_exporter": "python",
   "pygments_lexer": "ipython3",
   "version": "3.11.6"
  },
  "orig_nbformat": 4
 },
 "nbformat": 4,
 "nbformat_minor": 2
}
