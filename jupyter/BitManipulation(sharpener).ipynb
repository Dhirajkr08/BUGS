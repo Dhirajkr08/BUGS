{
 "cells": [
  {
   "cell_type": "code",
   "execution_count": 1,
   "metadata": {},
   "outputs": [
    {
     "name": "stdout",
     "output_type": "stream",
     "text": [
      "8\n"
     ]
    }
   ],
   "source": [
    "class solution:\n",
    "    def hamminghweight(self,n):\n",
    "        count=0\n",
    "        while n:\n",
    "            count+=1\n",
    "            n=n&(n-1)\n",
    "        return count\n",
    "def main():\n",
    "    n=int(input())\n",
    "    s=solution()\n",
    "    print(s.hamminghweight(n))\n",
    "main()            "
   ]
  },
  {
   "cell_type": "code",
   "execution_count": 2,
   "metadata": {},
   "outputs": [
    {
     "name": "stdout",
     "output_type": "stream",
     "text": [
      "8\n"
     ]
    }
   ],
   "source": [
    "class solution:\n",
    "    def hamminghWeight(self,n):\n",
    "        count=0\n",
    "        while n:\n",
    "            count+=1\n",
    "            n=n&(n-1)\n",
    "        return count\n",
    "def main():\n",
    "    n=int(input())\n",
    "    s=solution()\n",
    "    print(s.hamminghWeight(n))\n",
    "main()            "
   ]
  },
  {
   "cell_type": "code",
   "execution_count": 3,
   "metadata": {},
   "outputs": [
    {
     "name": "stdout",
     "output_type": "stream",
     "text": [
      "true\n"
     ]
    }
   ],
   "source": [
    "class solution:\n",
    "    def altBits(self,n):\n",
    "        n=bin(n)\n",
    "        for i in range(len(n)):\n",
    "            if n[i]==n[i-1]:\n",
    "                return 'false'\n",
    "        return 'true'\n",
    "def main():\n",
    "    n=int(input())\n",
    "    s=solution()\n",
    "    print(s.altBits(n))\n",
    "main()            \n"
   ]
  },
  {
   "cell_type": "code",
   "execution_count": 2,
   "metadata": {},
   "outputs": [
    {
     "name": "stdout",
     "output_type": "stream",
     "text": [
      "1a\n"
     ]
    }
   ],
   "source": [
    "class solution:\n",
    "    def hex(self,num):\n",
    "        if num==0:return '0'\n",
    "        m='0123456789abcdef'\n",
    "        ans=''\n",
    "        for i in range(8):\n",
    "            ans=m[num%16]+ans\n",
    "            num//=16\n",
    "        return ans.lstrip('0')\n",
    "def main():\n",
    "    n=int(input())\n",
    "    s=solution()\n",
    "    print(s.hex(n))\n",
    "main()    \n",
    "\n"
   ]
  },
  {
   "cell_type": "code",
   "execution_count": 4,
   "metadata": {},
   "outputs": [
    {
     "name": "stdout",
     "output_type": "stream",
     "text": [
      "1a\n"
     ]
    }
   ],
   "source": [
    "class solution:\n",
    "    def hex(self,num):\n",
    "        if num==0:return '0'\n",
    "        m='0123456789abcdef'\n",
    "        ans=''\n",
    "        for i in range(8):\n",
    "            ans=m[num%16]+ans\n",
    "            num//=16\n",
    "        return ans.lstrip('0')\n",
    "def main():\n",
    "    n=int(input())\n",
    "    s=solution()\n",
    "    print(s.hex(n))\n",
    "main()            "
   ]
  },
  {
   "cell_type": "code",
   "execution_count": 7,
   "metadata": {},
   "outputs": [
    {
     "name": "stdout",
     "output_type": "stream",
     "text": [
      "1a\n"
     ]
    }
   ],
   "source": [
    "class solution:\n",
    "    def hex(self,num):\n",
    "        if num==0:return '0'\n",
    "        m='0123456789abcdef'\n",
    "        ans=''\n",
    "        for i in range(8):\n",
    "            ans=m[num%16]+ans\n",
    "            num//=16\n",
    "        return ans.lstrip('0')\n",
    "def main():\n",
    "    n=int(input())\n",
    "    s=solution()\n",
    "    print(s.hex(n))\n",
    "main()            "
   ]
  },
  {
   "cell_type": "code",
   "execution_count": 8,
   "metadata": {},
   "outputs": [
    {
     "name": "stdout",
     "output_type": "stream",
     "text": [
      "[0, 1, 2, 4, 8, 3, 5, 6, 7]\n"
     ]
    }
   ],
   "source": [
    "class solution:\n",
    "    def sortBits(self,arr):\n",
    "        list=[]\n",
    "        for i in arr:\n",
    "            binary=bin(i)\n",
    "            list.append([binary.count('1'),i])\n",
    "        list.sort()\n",
    "        result=[]\n",
    "        for b,i in list:\n",
    "            result.append(i)\n",
    "        return result\n",
    "def main():\n",
    "    n=int(input())\n",
    "    s=solution()\n",
    "    arr=[]\n",
    "    for i in range(n):\n",
    "        arr.append(int(input()))\n",
    "    s=solution()\n",
    "    print(s.sortBits(arr))\n",
    "main()                    "
   ]
  },
  {
   "cell_type": "code",
   "execution_count": 9,
   "metadata": {},
   "outputs": [
    {
     "name": "stdout",
     "output_type": "stream",
     "text": [
      "[0, 1, 2, 4, 8, 3, 5, 6, 7]\n"
     ]
    }
   ],
   "source": [
    "class solution:\n",
    "    def sortBits(self,arr):\n",
    "        list=[]\n",
    "        for i in arr:\n",
    "            binary=bin(i)\n",
    "            list.append([binary.count('1'),i])\n",
    "        list.sort()\n",
    "        ans=[]\n",
    "        for b,i in list:\n",
    "            ans.append(i)\n",
    "        return ans\n",
    "def main():\n",
    "    n=int(input())\n",
    "    arr=[]\n",
    "    for i in range(n):\n",
    "        arr.append(int(input()))\n",
    "    s=solution()\n",
    "    print(s.sortBits(arr))\n",
    "main()                    "
   ]
  },
  {
   "cell_type": "code",
   "execution_count": 10,
   "metadata": {},
   "outputs": [
    {
     "name": "stdout",
     "output_type": "stream",
     "text": [
      "3\n"
     ]
    }
   ],
   "source": [
    "class solution:\n",
    "    def divide(self,dividend,divisor):\n",
    "        div=int(dividend/divisor)\n",
    "        if div>2147483647:\n",
    "            return 2147483647\n",
    "        elif div<-2147483648:\n",
    "            return -2147483648\n",
    "        else:\n",
    "            return div\n",
    "def main():\n",
    "    n=int(input())\n",
    "    p=int(input())\n",
    "    s=solution()\n",
    "    print(s.divide(n,p))\n",
    "main()            "
   ]
  },
  {
   "cell_type": "code",
   "execution_count": 11,
   "metadata": {},
   "outputs": [
    {
     "name": "stdout",
     "output_type": "stream",
     "text": [
      "3\n"
     ]
    }
   ],
   "source": [
    "class solution:\n",
    "    def divide(self,dividend,divisor):\n",
    "        ans=int(dividend/divisor)\n",
    "        if ans>2147483647:\n",
    "            return 2147483647\n",
    "        elif ans<-2147483648:\n",
    "            return -2146473648\n",
    "        return ans\n",
    "def main():\n",
    "    n=int(input())\n",
    "    p=int(input())\n",
    "    s=solution()\n",
    "    print(s.divide(n,p))\n",
    "main()        "
   ]
  },
  {
   "cell_type": "code",
   "execution_count": 1,
   "metadata": {},
   "outputs": [
    {
     "name": "stdout",
     "output_type": "stream",
     "text": [
      "6\n"
     ]
    }
   ],
   "source": [
    "class solution:\n",
    "    def maxWord(self,sentence):\n",
    "        maxi=0\n",
    "        for i in sentence:\n",
    "            i=i.split()\n",
    "            maxi=max(maxi,len(i))\n",
    "        return maxi\n",
    "def main():\n",
    "    n=int(input())\n",
    "    arr=[]\n",
    "    for i in range(n):\n",
    "        arr.append(input())\n",
    "    s=solution()\n",
    "    print(s.maxWord(arr))\n",
    "main()                "
   ]
  },
  {
   "cell_type": "code",
   "execution_count": 1,
   "metadata": {},
   "outputs": [],
   "source": [
    "class solution:\n",
    "    def maxWord(self,sentence):\n",
    "        maxi=0\n",
    "        for i in sentence:\n",
    "            i=i.split()\n",
    "            maxi=max(maxi,len(i))\n",
    "        return maxi\n",
    "def main():\n",
    "    n=int(input())\n",
    "    arr=[]\n",
    "    for i in range(n):\n",
    "        arr.append(input())\n",
    "    s=solution()\n",
    "    print(s.maxWord(arr))\n",
    "main()  \n"
   ]
  },
  {
   "cell_type": "code",
   "execution_count": 1,
   "metadata": {},
   "outputs": [
    {
     "name": "stdout",
     "output_type": "stream",
     "text": [
      "6\n"
     ]
    }
   ],
   "source": [
    "class solution:\n",
    "    def MaxWord(self,sentence):\n",
    "        maxi=0\n",
    "        for i in sentence:\n",
    "            i=i.split()\n",
    "            maxi=max(maxi,len(i))\n",
    "        return maxi \n",
    "def main():\n",
    "    n=int(input()) \n",
    "    arr=[]\n",
    "    for i in range(n):\n",
    "        arr.append(input())\n",
    "    s=solution()\n",
    "    print(s.MaxWord(arr)) \n",
    "main()       \n"
   ]
  }
 ],
 "metadata": {
  "kernelspec": {
   "display_name": "Python 3",
   "language": "python",
   "name": "python3"
  },
  "language_info": {
   "codemirror_mode": {
    "name": "ipython",
    "version": 3
   },
   "file_extension": ".py",
   "mimetype": "text/x-python",
   "name": "python",
   "nbconvert_exporter": "python",
   "pygments_lexer": "ipython3",
   "version": "3.11.5"
  },
  "orig_nbformat": 4
 },
 "nbformat": 4,
 "nbformat_minor": 2
}
