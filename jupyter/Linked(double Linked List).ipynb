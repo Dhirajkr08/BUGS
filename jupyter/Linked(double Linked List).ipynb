{
 "cells": [
  {
   "cell_type": "code",
   "execution_count": 1,
   "metadata": {},
   "outputs": [
    {
     "name": "stdout",
     "output_type": "stream",
     "text": [
      "1 -> 2 -> 3 -> None\n"
     ]
    }
   ],
   "source": [
    "#linked list practise\n",
    "class Node:\n",
    "    def __init__(self,data):\n",
    "        self.data=data\n",
    "        self.next=None\n",
    "class singleLinkedList:\n",
    "    def __init__(self):\n",
    "        self.head=None\n",
    "    def append(self,data):\n",
    "        newNode=Node(data)\n",
    "        if not self.head:\n",
    "            self.head=newNode\n",
    "        else:\n",
    "            current =self.head\n",
    "            while current.next:\n",
    "                current=current.next\n",
    "            current.next=newNode\n",
    "    def display(self):\n",
    "        current=self.head\n",
    "        while current:\n",
    "            print(current.data,end=\" -> \")  \n",
    "            current=current.next\n",
    "        print(\"None\")\n",
    "l1=singleLinkedList()\n",
    "l1.append(1)\n",
    "l1.append(2)\n",
    "l1.append(3)  \n",
    "l1.display()                       \n"
   ]
  },
  {
   "cell_type": "code",
   "execution_count": 3,
   "metadata": {},
   "outputs": [
    {
     "name": "stdout",
     "output_type": "stream",
     "text": [
      "1 -> 3 -> 7 -> None\n"
     ]
    }
   ],
   "source": [
    "# clearing concept\n",
    "class solution:\n",
    "    def __init__(self,data):\n",
    "        self.data=data\n",
    "        self.next=None\n",
    "class linkedList:\n",
    "    def __init__(self):\n",
    "        self.head=None\n",
    "    def InsertList(self,data):\n",
    "        newNode=Node(data)\n",
    "        if not self.head:\n",
    "            self.head=newNode\n",
    "        else:\n",
    "            current=self.head\n",
    "            while current.next:\n",
    "                current=current.next\n",
    "            current.next=newNode\n",
    "    def display(self):\n",
    "        current=self.head\n",
    "        while current:\n",
    "            print(current.data,end=\" -> \") \n",
    "            current=current.next\n",
    "        print(None)\n",
    "l1=linkedList()\n",
    "l1.InsertList(1)\n",
    "l1.InsertList(3)\n",
    "l1.InsertList(7)\n",
    "l1.display()\n",
    "\n",
    "\n"
   ]
  },
  {
   "cell_type": "code",
   "execution_count": null,
   "metadata": {},
   "outputs": [],
   "source": [
    "#Q1 Remove linked list element\n",
    "class solution:\n",
    "    def removeElement(self,head,val):\n",
    "        temp=head\n",
    "        prev=None\n",
    "        while temp!=None:\n",
    "            if temp.val==val and prev==None:\n",
    "                temp=temp.next\n",
    "                head=temp\n",
    "                prev=None\n",
    "            elif temp.val==val:\n",
    "                prev.next=temp.next\n",
    "                temp=temp.next\n",
    "            else:\n",
    "                prev=temp\n",
    "                temp=temp.next\n",
    "        return head                \n",
    "\n"
   ]
  },
  {
   "cell_type": "code",
   "execution_count": null,
   "metadata": {},
   "outputs": [],
   "source": [
    "class solution:\n",
    "    def removeElement(self,head,val):\n",
    "        temp=head\n",
    "        prev=None\n",
    "        while temp!=None:\n",
    "            if temp.val==val and prev==None:\n",
    "                temp=temp.next\n",
    "                head=temp\n",
    "                prev=None  \n",
    "            elif temp.val==val:\n",
    "                prev.next=temp.next\n",
    "                temp=temp.next\n",
    "            else:\n",
    "                prev=temp\n",
    "                temp=temp.next\n",
    "        return head\n",
    "                    "
   ]
  },
  {
   "cell_type": "code",
   "execution_count": 4,
   "metadata": {},
   "outputs": [
    {
     "ename": "SyntaxError",
     "evalue": "incomplete input (697705913.py, line 2)",
     "output_type": "error",
     "traceback": [
      "\u001b[1;36m  Cell \u001b[1;32mIn[4], line 2\u001b[1;36m\u001b[0m\n\u001b[1;33m    def maxSlidingWindow(nums,k):\u001b[0m\n\u001b[1;37m                                 ^\u001b[0m\n\u001b[1;31mSyntaxError\u001b[0m\u001b[1;31m:\u001b[0m incomplete input\n"
     ]
    }
   ],
   "source": [
    "from collections import deque\n",
    "def maxSlidingWindow(nums,k):\n",
    "    if not nums:\n",
    "        return []\n",
    "    result=[]\n",
    "    de=deque()\n",
    "    for i in range(len(nums)):\n",
    "        while de and de[0]<i-k+1:\n",
    "            de.popleft()\n",
    "        while de and nums[i]>=nums[de[-1]]:\n",
    "            de.pop()\n",
    "        de.append(i)\n",
    "        if i>=k-1:\n",
    "            result.append(nums[de[0]])\n",
    "    return result                "
   ]
  },
  {
   "cell_type": "code",
   "execution_count": null,
   "metadata": {},
   "outputs": [],
   "source": [
    "class solution:\n",
    "    def removeDup(self,head,val):\n",
    "        temp=head\n",
    "        prev=None\n",
    "        while temp !=None:\n",
    "            if temp.val==val and prev==None:\n",
    "                temp=temp.next\n",
    "                prev=None\n",
    "                head=temp\n",
    "            elif temp.val==val:\n",
    "                prev.next=temp.next\n",
    "                temp=temp.next\n",
    "            else:\n",
    "                prev=temp\n",
    "                temp=temp.next\n",
    "        return head\n",
    "    \n",
    "                    "
   ]
  },
  {
   "cell_type": "code",
   "execution_count": null,
   "metadata": {},
   "outputs": [],
   "source": [
    "#Q2 Delete NODE\n",
    "class Solution:\n",
    "    def deleteNode(self, node):\n",
    "        \"\"\"\n",
    "        :type node: ListNode\n",
    "        :rtype: void Do not return anything, modify node in-place instead.\n",
    "        \"\"\"\n",
    "        nextNode=node.next\n",
    "        node.val=nextNode.val\n",
    "        node.next=nextNode.next"
   ]
  },
  {
   "cell_type": "code",
   "execution_count": null,
   "metadata": {},
   "outputs": [],
   "source": [
    "# q3 get Intersection node\n",
    "class solution:\n",
    "    def getIntersection(self,nodeA,nodeB):\n",
    "        a=nodeA\n",
    "        b=nodeB\n",
    "        if a==None or b==None:\n",
    "            return None\n",
    "        while a!=b:\n",
    "            a=nodeA if a==None else a.next\n",
    "            b=nodeB if b==None else b.next\n",
    "        return a    "
   ]
  },
  {
   "cell_type": "code",
   "execution_count": null,
   "metadata": {},
   "outputs": [],
   "source": [
    "#question 4 reversedList\n",
    "class Solution:\n",
    "    def reverseList(self, head: Optional[ListNode]) -> Optional[ListNode]:\n",
    "        rev=None\n",
    "        while head:\n",
    "            temp=head\n",
    "            head=head.next\n",
    "            temp.next=rev\n",
    "            rev=temp\n",
    "        return rev "
   ]
  },
  {
   "cell_type": "code",
   "execution_count": null,
   "metadata": {},
   "outputs": [],
   "source": [
    "# check palindrome in linked list\n",
    "class Solution:\n",
    "    def isPalindrome(self, head: Optional[ListNode]) -> bool:\n",
    "        a=[]\n",
    "        while head != None:\n",
    "            a.append(head.val)\n",
    "            head=head.next\n",
    "        return a==a[::-1] "
   ]
  },
  {
   "cell_type": "code",
   "execution_count": null,
   "metadata": {},
   "outputs": [],
   "source": [
    "class Solution:\n",
    "    def rotateRight(self, head: Optional[ListNode], k: int) -> Optional[ListNode]:\n",
    "        if head==None:\n",
    "            return head\n",
    "        l=1\n",
    "        node=head\n",
    "        while (node.next):\n",
    "            node=node.next\n",
    "            l+=1\n",
    "        k=k%l\n",
    "        if k==0:\n",
    "            return head\n",
    "        k=l-k\n",
    "        lastnode=node\n",
    "        node=head\n",
    "        while k>1:\n",
    "            node=node.next\n",
    "            k-=1\n",
    "        first=node.next\n",
    "        node.next=None\n",
    "        lastnode.next=head\n",
    "        return first\n",
    "def main():\n",
    "    "
   ]
  },
  {
   "cell_type": "code",
   "execution_count": null,
   "metadata": {},
   "outputs": [],
   "source": []
  },
  {
   "cell_type": "code",
   "execution_count": null,
   "metadata": {},
   "outputs": [],
   "source": [
    "class solution:\n",
    "    def rotateright(self,head,K):\n",
    "        if head==None:\n",
    "            return head\n",
    "        l=1\n",
    "        node=head\n",
    "        while node.next:\n",
    "            node=node.next\n",
    "            l+=1\n",
    "        k=k%l\n",
    "        if k==0:\n",
    "            return head\n",
    "        k=l-K\n",
    "        lastnode=node\n",
    "        node=head\n",
    "        while k>1:\n",
    "            first=node.next\n",
    "            node.next=None\n",
    "            lastnode.next=head\n",
    "            return first"
   ]
  },
  {
   "cell_type": "markdown",
   "metadata": {},
   "source": [
    "Node: a linked list is composed of nodes and each nodes has two parts\n",
    "Data=this is the actual value you want to store\n",
    "pointer:-this is refrence to thw next node\n",
    "\n",
    "Head:-head is nothing but first node of the linked list\n",
    "also called as entry point\n",
    "\n",
    "tail:tails is the last node of the linked list\n",
    "it is the node where next step is to be \"None\"\n",
    "\n",
    "#Singly linked List vs Doubly Linked List:\n",
    "1:in singly linked list each node has pointer to the next node\n",
    "2:in doubly linked list each node has pointer to bothe next node and the previous node\n",
    "\n",
    "creating Node: to create a node simply create an onject or structure that contains a data fields and a pointer fields\n",
    "\n",
    "1:Adding a Node to beginning prpend:\n",
    "set the 'next pointer of the new node to the current head\n",
    "2.update the head to the point to the new node\n",
    "  \n",
    "\n",
    "  INSERTING THE NODE IN THE MIDDLE:\n",
    "  traverse the list until you reach the node just before the desired position\n",
    "  adust pointer to insert the new node\n",
    "\n",
    "  DELETING THE NODE:\n",
    "\n",
    "\n"
   ]
  },
  {
   "cell_type": "markdown",
   "metadata": {},
   "source": [
    "DELETING THE NODE:to delete a node adjust the next pointer of the surrounding nodes to bypass the the node to be deleted.the deleted node is then usually cleaned up by the programming languages memory management.\n",
    "\n",
    "TRAVERSING THE LIST:"
   ]
  },
  {
   "cell_type": "markdown",
   "metadata": {},
   "source": [
    "statrting form the head follow the next pointer to visit each node in sequence.\n",
    "\n",
    "SEARCHING THE NODE:: traverse is the list while checking the data of each node to find a specific value"
   ]
  },
  {
   "cell_type": "code",
   "execution_count": 19,
   "metadata": {},
   "outputs": [
    {
     "name": "stdout",
     "output_type": "stream",
     "text": [
      "1 -> 2 -> 3 -> "
     ]
    }
   ],
   "source": [
    "class solution:\n",
    "    def __init__(self,data):\n",
    "        self.data=data\n",
    "        self.next=None\n",
    "class LinkedList:\n",
    "    def __init__(self):\n",
    "        self.head=None\n",
    "    def PrintAttr(self,data):\n",
    "        new=Node(data)\n",
    "        if not self.head:\n",
    "            self.head=new\n",
    "            return\n",
    "        current=self.head\n",
    "        while current.next:\n",
    "            current=current.next\n",
    "        current.next=new\n",
    "l1=LinkedList()\n",
    "l1.PrintAttr(1)\n",
    "l1.PrintAttr(2)\n",
    "l1.PrintAttr(3)\n",
    "current=l1.head\n",
    "while current:\n",
    "    print(current.data,end=\" -> \") \n",
    "    current=current.next    "
   ]
  },
  {
   "cell_type": "code",
   "execution_count": 22,
   "metadata": {},
   "outputs": [
    {
     "name": "stdout",
     "output_type": "stream",
     "text": [
      "1\n",
      "2\n",
      "3\n"
     ]
    }
   ],
   "source": [
    "class Node:\n",
    "    def __init__(self,data):\n",
    "        self.data=data\n",
    "        self.next=None\n",
    "class LinkedList:\n",
    "    def __init__(self):\n",
    "        self.head=None  \n",
    "    def append(self,data):\n",
    "        new=Node(data)\n",
    "        if not self.head:\n",
    "            self.head=new\n",
    "        else:\n",
    "            current=self.head\n",
    "            while current.next:\n",
    "                current=current.next\n",
    "            current.next=new\n",
    "    def display(self):\n",
    "        current=self.head\n",
    "        while current:\n",
    "            print(current.data)\n",
    "            current=current.next\n",
    "l1=LinkedList()\n",
    "l1.append(1)\n",
    "l1.append(2)\n",
    "l1.append(3) \n",
    "l1.display()                                      "
   ]
  },
  {
   "cell_type": "code",
   "execution_count": 8,
   "metadata": {},
   "outputs": [
    {
     "name": "stdout",
     "output_type": "stream",
     "text": [
      "2\n",
      "4\n",
      "3\n",
      "6\n"
     ]
    }
   ],
   "source": [
    "class solution:\n",
    "    def __init__(self,data):\n",
    "        self.data=data\n",
    "        self.next=None\n",
    "class LinkedList:\n",
    "    def __init__(self):\n",
    "        self.head=None\n",
    "    def append(self,data):\n",
    "        new=solution(data)\n",
    "        if not self.head:\n",
    "            self.head=new\n",
    "        else:\n",
    "            current=self.head\n",
    "            while current.next:\n",
    "                current=current.next\n",
    "            current.next=new\n",
    "    def display(self):\n",
    "        current=self.head\n",
    "        while current:\n",
    "            print(current.data)\n",
    "            current=current.next\n",
    "l1=LinkedList()\n",
    "l1.append(2)\n",
    "l1.append(4)\n",
    "l1.append(3)\n",
    "l1.append(6)\n",
    "l1.display()            \n",
    "    "
   ]
  },
  {
   "cell_type": "code",
   "execution_count": null,
   "metadata": {},
   "outputs": [],
   "source": [
    "class solution:\n",
    "    def removeElements(self,head,val):\n",
    "        temp=head\n",
    "        prev=None\n",
    "        while temp!=None:\n",
    "            if temp.val==val and prev==None:\n",
    "                temp=temp.next\n",
    "                head=temp\n",
    "                prev=None\n",
    "            elif temp.val==val:\n",
    "                prev.next=temp.next\n",
    "                temp=temp.next\n",
    "            else:\n",
    "                prev=temp\n",
    "                temp=temp.next\n",
    "        return head  \n",
    "                  \n",
    "\n"
   ]
  },
  {
   "cell_type": "code",
   "execution_count": null,
   "metadata": {},
   "outputs": [],
   "source": [
    "# delete the node \n",
    "class solution:\n",
    "    def __init__(self,node):\n",
    "        new=node.next\n",
    "        node.next=new.next\n",
    "        node.val=new.val"
   ]
  },
  {
   "cell_type": "code",
   "execution_count": null,
   "metadata": {},
   "outputs": [],
   "source": [
    "# intersection of two linked list\n",
    "class soltion:\n",
    "    def Intersect(self,headA,headB):\n",
    "        a=headA\n",
    "        b=headB\n",
    "        if a==None or b==None:\n",
    "            return None\n",
    "        while a!=b:\n",
    "            a=headB if a==None else a.next\n",
    "            b=headA if b==None else b.next\n",
    "        return a    \n"
   ]
  },
  {
   "cell_type": "code",
   "execution_count": null,
   "metadata": {},
   "outputs": [],
   "source": [
    "# reverse linked list\n",
    "class solution:\n",
    "    def reverse(self,head):\n",
    "        rev=None\n",
    "        while head:\n",
    "            temp=head\n",
    "            head=head.next\n",
    "            temp.next=rev\n",
    "            rev=temp\n",
    "        return rev\n",
    "        \n",
    "        "
   ]
  },
  {
   "cell_type": "code",
   "execution_count": null,
   "metadata": {},
   "outputs": [],
   "source": [
    "# palindrome\n",
    "class solution:\n",
    "    def palindrome(self,head):\n",
    "        a=[]\n",
    "        while head !=None:\n",
    "            a.append(head.val)\n",
    "            head=head.next\n",
    "        return a==a[::-1]    "
   ]
  },
  {
   "cell_type": "code",
   "execution_count": null,
   "metadata": {},
   "outputs": [],
   "source": [
    "class solution:\n",
    "    def RotateList(self,head,k):\n",
    "        if head==None:\n",
    "            return None\n",
    "        l=1\n",
    "        node=head\n",
    "        while node.next:\n",
    "            node=node.next\n",
    "            l+=1\n",
    "        k=k%l\n",
    "        if k==0:\n",
    "            return head\n",
    "        k=l-k \n",
    "        lastnode=node\n",
    "        node=head\n",
    "        while k>1:\n",
    "            node=node.next\n",
    "            k=k-1\n",
    "        first=node.next\n",
    "        node.next=None\n",
    "        lastnode.next=head\n",
    "        return first       \n"
   ]
  },
  {
   "cell_type": "code",
   "execution_count": null,
   "metadata": {},
   "outputs": [],
   "source": [
    "# rotate linked list\n",
    "class solution:\n",
    "    def Rotate(self,head):\n",
    "        if head==None:\n",
    "            return None\n",
    "        l=1\n",
    "        current=head\n",
    "        while current.next:\n",
    "            current=current.next\n",
    "            l+=1\n",
    "        k=k%l\n",
    "        if k==0:\n",
    "            return head\n",
    "        new=head\n",
    "        for _ in range(l-k-1):\n",
    "            new=new.next\n",
    "        newtail=new.next\n",
    "        new.next=None\n",
    "        current.next=head\n",
    "        return newtail        "
   ]
  },
  {
   "cell_type": "code",
   "execution_count": null,
   "metadata": {},
   "outputs": [],
   "source": [
    "class solution:\n",
    "    def rotate(self,head):\n",
    "        if head==None:\n",
    "            return None\n",
    "        l=1\n",
    "        current=head\n",
    "        while current.next:\n",
    "            current=current.next\n",
    "            l+=1\n",
    "        k=k%l\n",
    "        if k==0:\n",
    "            return head\n",
    "        new=head\n",
    "        for _ in range(l-k-1):\n",
    "            new=new.next\n",
    "        newtail=new.next\n",
    "        new.next=None\n",
    "        current=current.next\n",
    "        return newtail    \n",
    "\n"
   ]
  },
  {
   "cell_type": "code",
   "execution_count": null,
   "metadata": {},
   "outputs": [],
   "source": [
    "# merge two linked list\n",
    "class ListNode:\n",
    "    def __init__(self,data):\n",
    "        self.data=data\n",
    "        self.next=None\n",
    "class solution:\n",
    "    def mergeTwoList(self,list1,list2):\n",
    "        ans=ListNode()\n",
    "        temp=ans\n",
    "        while list1 and list2:\n",
    "            if list1.val<list2.val:\n",
    "                temp.next=list1\n",
    "                list1=list1.next\n",
    "            else:\n",
    "                temp.next=list2\n",
    "                list2=list2.next\n",
    "            temp=temp.next\n",
    "        if list1:\n",
    "            temp.next=list1\n",
    "        else:\n",
    "            temp.next=list2\n",
    "        return ans.next\n",
    "            \n",
    "\n",
    "                 \n",
    "\n"
   ]
  },
  {
   "cell_type": "code",
   "execution_count": 1,
   "metadata": {},
   "outputs": [
    {
     "ename": "SyntaxError",
     "evalue": "incomplete input (2201057952.py, line 11)",
     "output_type": "error",
     "traceback": [
      "\u001b[1;36m  Cell \u001b[1;32mIn[1], line 11\u001b[1;36m\u001b[0m\n\u001b[1;33m    while l1 or l2 or i:\u001b[0m\n\u001b[1;37m                        ^\u001b[0m\n\u001b[1;31mSyntaxError\u001b[0m\u001b[1;31m:\u001b[0m incomplete input\n"
     ]
    }
   ],
   "source": [
    "# Add Two Numbers\n",
    "class ListNode:\n",
    "   def __init__(self, val=0, next=None):\n",
    "        self.val = val\n",
    "        self.next = next\n",
    "class solution:\n",
    "    def addTwoNumber(self,l1,l2):\n",
    "        result=ListNode()\n",
    "        temp=result\n",
    "        i=0\n",
    "        while l1 or l2 or i:\n",
    "            d1=l1.val if l1 else 0\n",
    "            d2=l2.val if l2 else 0\n",
    "            val=d1+d2+i\n",
    "            i=val//10\n",
    "            val=val%10\n",
    "            temp.next=ListNode(val)\n",
    "            temp=temp.next\n",
    "            l1=l1.next if l1 else None\n",
    "            l2=l2.next if l2 else None\n",
    "        return result.next\n",
    "        \n"
   ]
  },
  {
   "cell_type": "code",
   "execution_count": null,
   "metadata": {},
   "outputs": [],
   "source": [
    "class ListNode:\n",
    "    def __init__(self,val=0,next=None):\n",
    "        self.val=val\n",
    "        self.next=next\n",
    "class solution:\n",
    "    def remove(self,head,n):\n",
    "        ans=ListNode(0)\n",
    "        ans.next=head\n",
    "        slow=ans\n",
    "        fast=ans\n",
    "        for _ in range(n+1):\n",
    "            fast=fast.next\n",
    "        while fast:\n",
    "            slow=slow.next\n",
    "            fast=fast.next\n",
    "        slow.next=slow.next.next\n",
    "        return ans.next "
   ]
  },
  {
   "cell_type": "code",
   "execution_count": null,
   "metadata": {},
   "outputs": [],
   "source": [
    "# linked List cycle || \n",
    "class LinkedList:\n",
    "    def __init__(self,x):\n",
    "        self.val=x\n",
    "        self.next=next\n",
    "class solution:\n",
    "    def __init__(self,head,pos):\n",
    "        node=set()\n",
    "        while head:\n",
    "            if head in node:\n",
    "                return head\n",
    "            else:\n",
    "                node.add(head)\n",
    "            head=head.next\n",
    "        return None\n",
    "            \n",
    "\n"
   ]
  },
  {
   "cell_type": "code",
   "execution_count": 4,
   "metadata": {},
   "outputs": [
    {
     "name": "stdout",
     "output_type": "stream",
     "text": [
      "120\n"
     ]
    }
   ],
   "source": [
    "# recursion\n",
    "class solution:\n",
    "    def factorial(self,n):\n",
    "        if n==0 or n==1:\n",
    "            return 1\n",
    "        else:\n",
    "            return n*self.factorial(n-1)\n",
    "def main():\n",
    "    n=5\n",
    "    s=solution()\n",
    "    print(s.factorial(n))\n",
    "main()                      "
   ]
  },
  {
   "cell_type": "code",
   "execution_count": 5,
   "metadata": {},
   "outputs": [
    {
     "name": "stdout",
     "output_type": "stream",
     "text": [
      "13\n"
     ]
    }
   ],
   "source": [
    "# sum of two number using fibanacci \n",
    "def fibonacci(n):\n",
    "    if n<=1:\n",
    "        return n\n",
    "    else:\n",
    "        return fibonacci(n-1)+fibonacci(n-2)\n",
    "def addTwo(a,b):\n",
    "    n=0\n",
    "    while fibonacci(n)<a:\n",
    "        n+=1\n",
    "    m=n\n",
    "    while fibonacci(m)<b:\n",
    "        m+=1\n",
    "    fib=fibonacci(n)\n",
    "    fibb=fibonacci(m)\n",
    "    result=fib+fibb\n",
    "    return result\n",
    "def main():\n",
    "    a=5\n",
    "    b=8\n",
    "    print(addTwo(a,b))\n",
    "main()    \n",
    "            "
   ]
  },
  {
   "cell_type": "code",
   "execution_count": 9,
   "metadata": {},
   "outputs": [
    {
     "name": "stdout",
     "output_type": "stream",
     "text": [
      "6\n"
     ]
    }
   ],
   "source": [
    "# converting into the recursion\n",
    "\n",
    "def sum(n):\n",
    "    if n<=0:\n",
    "        return 0\n",
    "    if n%2==0:\n",
    "        return n+sum(n-2)\n",
    "    return sum(n-1)\n",
    "def main():\n",
    "    n=5\n",
    "    print(sum(n))\n",
    "main()    \n",
    "\n",
    "\n",
    "    \n",
    "    "
   ]
  },
  {
   "cell_type": "code",
   "execution_count": 12,
   "metadata": {},
   "outputs": [
    {
     "name": "stdout",
     "output_type": "stream",
     "text": [
      "6\n"
     ]
    }
   ],
   "source": [
    "def sumi(n):\n",
    "    sum=0\n",
    "    for i in range(n-1):\n",
    "        if i==n:\n",
    "            break\n",
    "        sum+=i\n",
    "    print(sum)\n",
    "def main():\n",
    "    n=5\n",
    "    sumi(n)\n",
    "main()            \n",
    "\n"
   ]
  },
  {
   "cell_type": "code",
   "execution_count": 13,
   "metadata": {},
   "outputs": [
    {
     "data": {
      "text/plain": [
       "0"
      ]
     },
     "execution_count": 13,
     "metadata": {},
     "output_type": "execute_result"
    }
   ],
   "source": [
    "# task 16\n",
    "def count(i):\n",
    "    if i>5:\n",
    "        return 0\n",
    "    return count(i+1)\n",
    "count(1)"
   ]
  },
  {
   "cell_type": "code",
   "execution_count": 14,
   "metadata": {},
   "outputs": [
    {
     "name": "stdout",
     "output_type": "stream",
     "text": [
      "0\n"
     ]
    }
   ],
   "source": [
    "# question 17\n",
    "def count(i):\n",
    "    if i>5:\n",
    "        return 0\n",
    "    return i*count(i+1)\n",
    "print(count(1))\n",
    "\n"
   ]
  },
  {
   "cell_type": "code",
   "execution_count": 15,
   "metadata": {},
   "outputs": [
    {
     "ename": "RecursionError",
     "evalue": "maximum recursion depth exceeded",
     "output_type": "error",
     "traceback": [
      "\u001b[1;31m---------------------------------------------------------------------------\u001b[0m",
      "\u001b[1;31mRecursionError\u001b[0m                            Traceback (most recent call last)",
      "\u001b[1;32mUntitled-1.ipynb Cell 38\u001b[0m line \u001b[0;36m5\n\u001b[0;32m      <a href='vscode-notebook-cell:Untitled-1.ipynb?jupyter-notebook#X52sdW50aXRsZWQ%3D?line=2'>3</a>\u001b[0m         \u001b[39mreturn\u001b[39;00m \u001b[39m0\u001b[39m\n\u001b[0;32m      <a href='vscode-notebook-cell:Untitled-1.ipynb?jupyter-notebook#X52sdW50aXRsZWQ%3D?line=3'>4</a>\u001b[0m     \u001b[39mreturn\u001b[39;00m i\u001b[39m+\u001b[39mcount(i\u001b[39m+\u001b[39m\u001b[39m3\u001b[39m)\n\u001b[1;32m----> <a href='vscode-notebook-cell:Untitled-1.ipynb?jupyter-notebook#X52sdW50aXRsZWQ%3D?line=4'>5</a>\u001b[0m \u001b[39mprint\u001b[39m(count(\u001b[39m1\u001b[39;49m))\n",
      "\u001b[1;32mUntitled-1.ipynb Cell 38\u001b[0m line \u001b[0;36m4\n\u001b[0;32m      <a href='vscode-notebook-cell:Untitled-1.ipynb?jupyter-notebook#X52sdW50aXRsZWQ%3D?line=1'>2</a>\u001b[0m \u001b[39mif\u001b[39;00m i\u001b[39m==\u001b[39m\u001b[39m5\u001b[39m:\n\u001b[0;32m      <a href='vscode-notebook-cell:Untitled-1.ipynb?jupyter-notebook#X52sdW50aXRsZWQ%3D?line=2'>3</a>\u001b[0m     \u001b[39mreturn\u001b[39;00m \u001b[39m0\u001b[39m\n\u001b[1;32m----> <a href='vscode-notebook-cell:Untitled-1.ipynb?jupyter-notebook#X52sdW50aXRsZWQ%3D?line=3'>4</a>\u001b[0m \u001b[39mreturn\u001b[39;00m i\u001b[39m+\u001b[39mcount(i\u001b[39m+\u001b[39;49m\u001b[39m3\u001b[39;49m)\n",
      "\u001b[1;32mUntitled-1.ipynb Cell 38\u001b[0m line \u001b[0;36m4\n\u001b[0;32m      <a href='vscode-notebook-cell:Untitled-1.ipynb?jupyter-notebook#X52sdW50aXRsZWQ%3D?line=1'>2</a>\u001b[0m \u001b[39mif\u001b[39;00m i\u001b[39m==\u001b[39m\u001b[39m5\u001b[39m:\n\u001b[0;32m      <a href='vscode-notebook-cell:Untitled-1.ipynb?jupyter-notebook#X52sdW50aXRsZWQ%3D?line=2'>3</a>\u001b[0m     \u001b[39mreturn\u001b[39;00m \u001b[39m0\u001b[39m\n\u001b[1;32m----> <a href='vscode-notebook-cell:Untitled-1.ipynb?jupyter-notebook#X52sdW50aXRsZWQ%3D?line=3'>4</a>\u001b[0m \u001b[39mreturn\u001b[39;00m i\u001b[39m+\u001b[39mcount(i\u001b[39m+\u001b[39;49m\u001b[39m3\u001b[39;49m)\n",
      "    \u001b[1;31m[... skipping similar frames: count at line 4 (2971 times)]\u001b[0m\n",
      "\u001b[1;32mUntitled-1.ipynb Cell 38\u001b[0m line \u001b[0;36m4\n\u001b[0;32m      <a href='vscode-notebook-cell:Untitled-1.ipynb?jupyter-notebook#X52sdW50aXRsZWQ%3D?line=1'>2</a>\u001b[0m \u001b[39mif\u001b[39;00m i\u001b[39m==\u001b[39m\u001b[39m5\u001b[39m:\n\u001b[0;32m      <a href='vscode-notebook-cell:Untitled-1.ipynb?jupyter-notebook#X52sdW50aXRsZWQ%3D?line=2'>3</a>\u001b[0m     \u001b[39mreturn\u001b[39;00m \u001b[39m0\u001b[39m\n\u001b[1;32m----> <a href='vscode-notebook-cell:Untitled-1.ipynb?jupyter-notebook#X52sdW50aXRsZWQ%3D?line=3'>4</a>\u001b[0m \u001b[39mreturn\u001b[39;00m i\u001b[39m+\u001b[39mcount(i\u001b[39m+\u001b[39;49m\u001b[39m3\u001b[39;49m)\n",
      "\u001b[1;31mRecursionError\u001b[0m: maximum recursion depth exceeded"
     ]
    }
   ],
   "source": [
    "# question 18\n",
    "def count(i):\n",
    "    if i==5:\n",
    "        return 0\n",
    "    return i+count(i+3)\n",
    "print(count(1))"
   ]
  },
  {
   "cell_type": "code",
   "execution_count": 18,
   "metadata": {},
   "outputs": [
    {
     "name": "stdout",
     "output_type": "stream",
     "text": [
      "1\n",
      "2\n",
      "3\n",
      "4\n",
      "5\n"
     ]
    }
   ],
   "source": [
    "# task 19\n",
    "def count(i):\n",
    "    if i==6:\n",
    "        return \n",
    "    print(i)\n",
    "    count(i+1)\n",
    "count(1)   \n",
    "    "
   ]
  },
  {
   "cell_type": "code",
   "execution_count": 19,
   "metadata": {},
   "outputs": [
    {
     "name": "stdout",
     "output_type": "stream",
     "text": [
      "5\n",
      "4\n",
      "3\n",
      "2\n",
      "1\n"
     ]
    }
   ],
   "source": [
    "# task 20\n",
    "def count(i):\n",
    "    if i==6:\n",
    "        return \n",
    "    count(i+1)\n",
    "    print(i)\n",
    "count(1)    "
   ]
  },
  {
   "cell_type": "code",
   "execution_count": 27,
   "metadata": {},
   "outputs": [
    {
     "name": "stdout",
     "output_type": "stream",
     "text": [
      "5\n",
      "4\n",
      "3\n",
      "2\n",
      "1\n"
     ]
    }
   ],
   "source": [
    "# task 21\n",
    "def function(i):\n",
    "    if(i==6):\n",
    "        return\n",
    "    else:\n",
    "        print(i,end=\" \")\n",
    "        count(i+1)\n",
    "        print(i,end=\" \")\n",
    "        \n",
    "        \n",
    "count(1)    "
   ]
  },
  {
   "cell_type": "code",
   "execution_count": 36,
   "metadata": {},
   "outputs": [
    {
     "name": "stdout",
     "output_type": "stream",
     "text": [
      "0\n",
      "5\n",
      "10\n",
      "15\n",
      "20\n",
      "25\n",
      "30\n",
      "35\n",
      "40\n",
      "45\n",
      "50\n"
     ]
    }
   ],
   "source": [
    "# task 22\n",
    "def multiples(start,end):\n",
    "    if start>end:\n",
    "        return\n",
    "    if start %5==0:\n",
    "        print(start)\n",
    "    multiples(start+1,end)\n",
    "def main():\n",
    "    n=0\n",
    "    m=50\n",
    "    (multiples(n,m)) \n",
    "main()                       "
   ]
  },
  {
   "cell_type": "code",
   "execution_count": 38,
   "metadata": {},
   "outputs": [
    {
     "name": "stdout",
     "output_type": "stream",
     "text": [
      "0\n",
      "5\n",
      "10\n",
      "15\n",
      "20\n",
      "25\n",
      "30\n",
      "35\n",
      "40\n",
      "45\n"
     ]
    }
   ],
   "source": [
    "# task 22\n",
    "def multiple(n):\n",
    "    for i in range(n):\n",
    "        if i%5==0:\n",
    "            print(i)\n",
    "def main():\n",
    "    n=50\n",
    "    multiple(n)\n",
    "main()                "
   ]
  },
  {
   "cell_type": "code",
   "execution_count": 42,
   "metadata": {},
   "outputs": [
    {
     "name": "stdout",
     "output_type": "stream",
     "text": [
      "15\n"
     ]
    }
   ],
   "source": [
    "# task23\n",
    "def sumNatural(n):\n",
    "    if n<1:\n",
    "        return 'Invalid'\n",
    "    sum=(n*(n+1))//2\n",
    "    print(sum)\n",
    "def main():\n",
    "    n=5\n",
    "    sumNatural(n)\n",
    "main()       \n",
    "    "
   ]
  },
  {
   "cell_type": "code",
   "execution_count": 41,
   "metadata": {},
   "outputs": [
    {
     "name": "stdout",
     "output_type": "stream",
     "text": [
      "15\n"
     ]
    }
   ],
   "source": [
    "def sumNatural(n):\n",
    "    if n<1:\n",
    "        return 'Invalid'\n",
    "    sum=0\n",
    "    for i in range(1,n+1):\n",
    "        sum+=i\n",
    "    return sum\n",
    "def main():\n",
    "    n=int(input()) \n",
    "    print(sumNatural(n)) \n",
    "main()      "
   ]
  },
  {
   "cell_type": "code",
   "execution_count": 43,
   "metadata": {},
   "outputs": [
    {
     "name": "stdout",
     "output_type": "stream",
     "text": [
      "120\n"
     ]
    }
   ],
   "source": [
    "# task 24\n",
    "def factorial(n):\n",
    "    if n==0:\n",
    "        return 1\n",
    "    return n*factorial(n-1)\n",
    "def main():\n",
    "    n=5\n",
    "    print(factorial(n))\n",
    "main()   \n"
   ]
  },
  {
   "cell_type": "code",
   "execution_count": 44,
   "metadata": {},
   "outputs": [
    {
     "name": "stdout",
     "output_type": "stream",
     "text": [
      "1\n"
     ]
    }
   ],
   "source": [
    "# task 26\n",
    "def fibonacci(n):\n",
    "    if n==0:\n",
    "        return 0\n",
    "    elif n==1:\n",
    "        return 1\n",
    "    return fibonacci(n-1)+fibonacci(n-2)\n",
    "def main():\n",
    "    n=2\n",
    "    print(fibonacci(n))\n",
    "main()    "
   ]
  },
  {
   "cell_type": "code",
   "execution_count": 47,
   "metadata": {},
   "outputs": [
    {
     "name": "stdout",
     "output_type": "stream",
     "text": [
      "abc\n",
      "acb\n",
      "bac\n",
      "bca\n",
      "cba\n",
      "cab\n"
     ]
    }
   ],
   "source": [
    "def permutations(n,i=0):\n",
    "    if i==len(n):\n",
    "        print(''.join(n))\n",
    "    for j in range(i,len(n)):\n",
    "        word= [k for k in n]\n",
    "        word[i],word[j]=word[j],word[i]\n",
    "        permutations(word,i+1)\n",
    "def main():\n",
    "    n='abc'\n",
    "    (permutations(n))\n",
    "main()            \n",
    "\n",
    "\n",
    "\n",
    "\n"
   ]
  },
  {
   "cell_type": "code",
   "execution_count": 1,
   "metadata": {},
   "outputs": [
    {
     "name": "stdout",
     "output_type": "stream",
     "text": [
      "abc\n",
      "acb\n",
      "bac\n",
      "bca\n",
      "cba\n",
      "cab\n"
     ]
    }
   ],
   "source": [
    "def permutations(n,i=0):\n",
    "    if i==len(n):\n",
    "        print(''.join(n))\n",
    "    for j in range(i,len(n)):\n",
    "        word=[k for k in n]\n",
    "        word[i],word[j]=word[j],word[i]\n",
    "        permutations(word,i+1)    \n",
    "def main():\n",
    "    n='abc' \n",
    "    permutations(n)\n",
    "main()               "
   ]
  },
  {
   "cell_type": "code",
   "execution_count": 4,
   "metadata": {},
   "outputs": [
    {
     "name": "stdout",
     "output_type": "stream",
     "text": [
      "\n",
      "1\n",
      "1 2\n",
      "1 2 3\n",
      "1 3\n",
      "1 3 3\n",
      "2\n",
      "2 2\n",
      "2 2 3\n",
      "2 3\n",
      "2 3 3\n",
      "3\n",
      "3 2\n",
      "3 2 3\n",
      "3 3\n",
      "3 3 3\n"
     ]
    }
   ],
   "source": [
    "# task 28\n",
    "def subsetUtill(arr,subset=[],i=0):\n",
    "    print(*subset)\n",
    "    for j in range(i,len(arr)):\n",
    "        subset.append(arr[j])\n",
    "        subsetUtill(arr,subset,i+1)\n",
    "        subset.pop(-1)\n",
    "    return \n",
    "def main():\n",
    "    n=input()\n",
    "    (subsetUtill(n))\n",
    "main()       \n"
   ]
  },
  {
   "cell_type": "code",
   "execution_count": 6,
   "metadata": {},
   "outputs": [
    {
     "name": "stdout",
     "output_type": "stream",
     "text": [
      "[1, 2, 3, 5]\n"
     ]
    }
   ],
   "source": [
    "# task 29\n",
    "class solution:\n",
    "    def sortArray(self,nums):\n",
    "        return sorted(nums)\n",
    "def main():\n",
    "    n=int(input())\n",
    "    arr=[]\n",
    "    for i in range(n):\n",
    "        arr.append(int(input()))\n",
    "    s=solution()\n",
    "    print(s.sortArray(arr)) \n",
    "main()           "
   ]
  },
  {
   "cell_type": "code",
   "execution_count": 16,
   "metadata": {},
   "outputs": [
    {
     "name": "stdout",
     "output_type": "stream",
     "text": [
      "alice 3000\n",
      "rob 3200\n",
      "Bob 4500\n"
     ]
    }
   ],
   "source": [
    "# task 32\n",
    "class Employee:\n",
    "    def __init__(self,name,salary):\n",
    "        self.name=name\n",
    "        self.salary=salary\n",
    "    def printDetails(self):\n",
    "        return {'name':self.name,\"salary\":self.salary}\n",
    "    \n",
    "    def __lt__(self,other):\n",
    "        return self.salary<other.salary\n",
    "\n",
    "\n",
    "    \n",
    "e=[Employee(\"alice\",3000),Employee('Bob',4500),Employee('rob',3200)]\n",
    "sorte=sorted(e)\n",
    "for i in sorte:\n",
    "    print(i.name,i.salary)       \n",
    "\n",
    "    \n"
   ]
  }
 ],
 "metadata": {
  "kernelspec": {
   "display_name": "Python 3",
   "language": "python",
   "name": "python3"
  },
  "language_info": {
   "codemirror_mode": {
    "name": "ipython",
    "version": 3
   },
   "file_extension": ".py",
   "mimetype": "text/x-python",
   "name": "python",
   "nbconvert_exporter": "python",
   "pygments_lexer": "ipython3",
   "version": "3.11.6"
  }
 },
 "nbformat": 4,
 "nbformat_minor": 2
}
